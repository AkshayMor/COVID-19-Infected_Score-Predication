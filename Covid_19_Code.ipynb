{
  "nbformat": 4,
  "nbformat_minor": 0,
  "metadata": {
    "colab": {
      "name": "Covid-19 Code.ipynb",
      "provenance": [],
      "collapsed_sections": []
    },
    "kernelspec": {
      "name": "python3",
      "display_name": "Python 3"
    }
  },
  "cells": [
    {
      "cell_type": "markdown",
      "metadata": {
        "id": "Jtn-X9fC72-j",
        "colab_type": "text"
      },
      "source": [
        "# **COVID-19 Infected_Score Predication**"
      ]
    },
    {
      "cell_type": "code",
      "metadata": {
        "id": "6O7Z_Mh230MX",
        "colab_type": "code",
        "outputId": "cf92c58d-197e-4904-962e-581d290b9b76",
        "colab": {
          "base_uri": "https://localhost:8080/",
          "height": 121
        }
      },
      "source": [
        "from google.colab import drive\n",
        "drive.mount('/content/drive')"
      ],
      "execution_count": 1,
      "outputs": [
        {
          "output_type": "stream",
          "text": [
            "Go to this URL in a browser: https://accounts.google.com/o/oauth2/auth?client_id=947318989803-6bn6qk8qdgf4n4g3pfee6491hc0brc4i.apps.googleusercontent.com&redirect_uri=urn%3aietf%3awg%3aoauth%3a2.0%3aoob&response_type=code&scope=email%20https%3a%2f%2fwww.googleapis.com%2fauth%2fdocs.test%20https%3a%2f%2fwww.googleapis.com%2fauth%2fdrive%20https%3a%2f%2fwww.googleapis.com%2fauth%2fdrive.photos.readonly%20https%3a%2f%2fwww.googleapis.com%2fauth%2fpeopleapi.readonly\n",
            "\n",
            "Enter your authorization code:\n",
            "··········\n",
            "Mounted at /content/drive\n"
          ],
          "name": "stdout"
        }
      ]
    },
    {
      "cell_type": "code",
      "metadata": {
        "id": "ZvomdeLV4A_Z",
        "colab_type": "code",
        "outputId": "350bf4df-a67d-4a4b-d7bb-2437274ba943",
        "colab": {
          "base_uri": "https://localhost:8080/",
          "height": 79
        }
      },
      "source": [
        "#Importing Libraries\n",
        "import pandas as pd\n",
        "import numpy as np\n",
        "import matplotlib.pyplot as plt\n",
        "import seaborn as sns\n",
        "\n",
        "from sklearn.preprocessing import LabelEncoder \n",
        "from sklearn.model_selection import train_test_split\n",
        "from sklearn.preprocessing import StandardScaler\n",
        "from sklearn.model_selection import GridSearchCV\n",
        "from sklearn.ensemble import RandomForestRegressor\n",
        "\n",
        "from keras.models import Sequential\n",
        "from keras.layers import Dense \n",
        "%matplotlib inline"
      ],
      "execution_count": 2,
      "outputs": [
        {
          "output_type": "stream",
          "text": [
            "Using TensorFlow backend.\n"
          ],
          "name": "stderr"
        },
        {
          "output_type": "display_data",
          "data": {
            "text/html": [
              "<p style=\"color: red;\">\n",
              "The default version of TensorFlow in Colab will soon switch to TensorFlow 2.x.<br>\n",
              "We recommend you <a href=\"https://www.tensorflow.org/guide/migrate\" target=\"_blank\">upgrade</a> now \n",
              "or ensure your notebook will continue to use TensorFlow 1.x via the <code>%tensorflow_version 1.x</code> magic:\n",
              "<a href=\"https://colab.research.google.com/notebooks/tensorflow_version.ipynb\" target=\"_blank\">more info</a>.</p>\n"
            ],
            "text/plain": [
              "<IPython.core.display.HTML object>"
            ]
          },
          "metadata": {
            "tags": []
          }
        }
      ]
    },
    {
      "cell_type": "code",
      "metadata": {
        "id": "gQqIAnZn48oK",
        "colab_type": "code",
        "colab": {}
      },
      "source": [
        "#Importing Training data\n",
        "df=pd.read_csv('/content/drive/My Drive/flipr/Train_dataset.csv')"
      ],
      "execution_count": 0,
      "outputs": []
    },
    {
      "cell_type": "code",
      "metadata": {
        "id": "KytqzcgC_izy",
        "colab_type": "code",
        "outputId": "5dbd37a3-2058-4396-b3b8-48e9b3061ca1",
        "colab": {
          "base_uri": "https://localhost:8080/",
          "height": 321
        }
      },
      "source": [
        "df.describe()"
      ],
      "execution_count": 4,
      "outputs": [
        {
          "output_type": "execute_result",
          "data": {
            "text/html": [
              "<div>\n",
              "<style scoped>\n",
              "    .dataframe tbody tr th:only-of-type {\n",
              "        vertical-align: middle;\n",
              "    }\n",
              "\n",
              "    .dataframe tbody tr th {\n",
              "        vertical-align: top;\n",
              "    }\n",
              "\n",
              "    .dataframe thead th {\n",
              "        text-align: right;\n",
              "    }\n",
              "</style>\n",
              "<table border=\"1\" class=\"dataframe\">\n",
              "  <thead>\n",
              "    <tr style=\"text-align: right;\">\n",
              "      <th></th>\n",
              "      <th>people_ID</th>\n",
              "      <th>Children</th>\n",
              "      <th>cases/1M</th>\n",
              "      <th>Deaths/1M</th>\n",
              "      <th>Age</th>\n",
              "      <th>Coma score</th>\n",
              "      <th>Diuresis</th>\n",
              "      <th>Platelets</th>\n",
              "      <th>HBB</th>\n",
              "      <th>d-dimer</th>\n",
              "      <th>Heart rate</th>\n",
              "      <th>HDL cholesterol</th>\n",
              "      <th>Charlson Index</th>\n",
              "      <th>Blood Glucose</th>\n",
              "      <th>Insurance</th>\n",
              "      <th>salary</th>\n",
              "      <th>FT/month</th>\n",
              "      <th>Infect_Prob</th>\n",
              "    </tr>\n",
              "  </thead>\n",
              "  <tbody>\n",
              "    <tr>\n",
              "      <th>count</th>\n",
              "      <td>10714.000000</td>\n",
              "      <td>10403.000000</td>\n",
              "      <td>10714.000000</td>\n",
              "      <td>10714.000000</td>\n",
              "      <td>10714.000000</td>\n",
              "      <td>10714.000000</td>\n",
              "      <td>9998.000000</td>\n",
              "      <td>9790.000000</td>\n",
              "      <td>10698.000000</td>\n",
              "      <td>9600.000000</td>\n",
              "      <td>9600.000000</td>\n",
              "      <td>10679.000000</td>\n",
              "      <td>10714.000000</td>\n",
              "      <td>10714.000000</td>\n",
              "      <td>9.624000e+03</td>\n",
              "      <td>1.071400e+04</td>\n",
              "      <td>9991.000000</td>\n",
              "      <td>10714.000000</td>\n",
              "    </tr>\n",
              "    <tr>\n",
              "      <th>mean</th>\n",
              "      <td>10084.893784</td>\n",
              "      <td>1.062770</td>\n",
              "      <td>3.285888</td>\n",
              "      <td>0.523241</td>\n",
              "      <td>42.083722</td>\n",
              "      <td>9.013067</td>\n",
              "      <td>278.806261</td>\n",
              "      <td>87.795812</td>\n",
              "      <td>116.170967</td>\n",
              "      <td>275.292292</td>\n",
              "      <td>74.847396</td>\n",
              "      <td>52.632737</td>\n",
              "      <td>20.028094</td>\n",
              "      <td>5.015027</td>\n",
              "      <td>2.644919e+06</td>\n",
              "      <td>1.304713e+06</td>\n",
              "      <td>1.004604</td>\n",
              "      <td>52.280680</td>\n",
              "    </tr>\n",
              "    <tr>\n",
              "      <th>std</th>\n",
              "      <td>7108.663645</td>\n",
              "      <td>0.818222</td>\n",
              "      <td>2.721274</td>\n",
              "      <td>0.854303</td>\n",
              "      <td>15.323397</td>\n",
              "      <td>3.714970</td>\n",
              "      <td>97.985526</td>\n",
              "      <td>41.851103</td>\n",
              "      <td>55.178811</td>\n",
              "      <td>43.669692</td>\n",
              "      <td>14.869104</td>\n",
              "      <td>10.434293</td>\n",
              "      <td>11.828445</td>\n",
              "      <td>1.399770</td>\n",
              "      <td>1.383346e+06</td>\n",
              "      <td>6.075947e+05</td>\n",
              "      <td>0.815257</td>\n",
              "      <td>10.674667</td>\n",
              "    </tr>\n",
              "    <tr>\n",
              "      <th>min</th>\n",
              "      <td>1.000000</td>\n",
              "      <td>0.000000</td>\n",
              "      <td>1.000000</td>\n",
              "      <td>0.000000</td>\n",
              "      <td>16.000000</td>\n",
              "      <td>3.000000</td>\n",
              "      <td>110.000000</td>\n",
              "      <td>15.000000</td>\n",
              "      <td>20.000000</td>\n",
              "      <td>200.000000</td>\n",
              "      <td>50.000000</td>\n",
              "      <td>35.000000</td>\n",
              "      <td>0.000000</td>\n",
              "      <td>3.000000</td>\n",
              "      <td>3.000000e+05</td>\n",
              "      <td>3.000000e+05</td>\n",
              "      <td>0.000000</td>\n",
              "      <td>29.289600</td>\n",
              "    </tr>\n",
              "    <tr>\n",
              "      <th>25%</th>\n",
              "      <td>2679.250000</td>\n",
              "      <td>0.000000</td>\n",
              "      <td>2.000000</td>\n",
              "      <td>0.000000</td>\n",
              "      <td>29.000000</td>\n",
              "      <td>6.000000</td>\n",
              "      <td>194.000000</td>\n",
              "      <td>52.000000</td>\n",
              "      <td>68.000000</td>\n",
              "      <td>237.000000</td>\n",
              "      <td>62.000000</td>\n",
              "      <td>44.000000</td>\n",
              "      <td>10.000000</td>\n",
              "      <td>4.000000</td>\n",
              "      <td>1.400000e+06</td>\n",
              "      <td>8.000000e+05</td>\n",
              "      <td>0.000000</td>\n",
              "      <td>47.277426</td>\n",
              "    </tr>\n",
              "    <tr>\n",
              "      <th>50%</th>\n",
              "      <td>10003.500000</td>\n",
              "      <td>1.000000</td>\n",
              "      <td>2.000000</td>\n",
              "      <td>0.000000</td>\n",
              "      <td>42.000000</td>\n",
              "      <td>9.000000</td>\n",
              "      <td>276.000000</td>\n",
              "      <td>88.000000</td>\n",
              "      <td>117.000000</td>\n",
              "      <td>276.000000</td>\n",
              "      <td>75.000000</td>\n",
              "      <td>53.000000</td>\n",
              "      <td>20.000000</td>\n",
              "      <td>5.000000</td>\n",
              "      <td>2.600000e+06</td>\n",
              "      <td>1.300000e+06</td>\n",
              "      <td>1.000000</td>\n",
              "      <td>49.008389</td>\n",
              "    </tr>\n",
              "    <tr>\n",
              "      <th>75%</th>\n",
              "      <td>15141.750000</td>\n",
              "      <td>2.000000</td>\n",
              "      <td>4.000000</td>\n",
              "      <td>1.000000</td>\n",
              "      <td>55.000000</td>\n",
              "      <td>12.000000</td>\n",
              "      <td>364.000000</td>\n",
              "      <td>124.000000</td>\n",
              "      <td>165.000000</td>\n",
              "      <td>313.000000</td>\n",
              "      <td>88.000000</td>\n",
              "      <td>62.000000</td>\n",
              "      <td>30.000000</td>\n",
              "      <td>6.000000</td>\n",
              "      <td>3.800000e+06</td>\n",
              "      <td>1.800000e+06</td>\n",
              "      <td>2.000000</td>\n",
              "      <td>52.762313</td>\n",
              "    </tr>\n",
              "    <tr>\n",
              "      <th>max</th>\n",
              "      <td>22695.000000</td>\n",
              "      <td>2.000000</td>\n",
              "      <td>8.000000</td>\n",
              "      <td>2.000000</td>\n",
              "      <td>68.000000</td>\n",
              "      <td>15.000000</td>\n",
              "      <td>450.000000</td>\n",
              "      <td>160.000000</td>\n",
              "      <td>210.000000</td>\n",
              "      <td>350.000000</td>\n",
              "      <td>100.000000</td>\n",
              "      <td>70.000000</td>\n",
              "      <td>40.000000</td>\n",
              "      <td>7.000000</td>\n",
              "      <td>5.000000e+06</td>\n",
              "      <td>2.300000e+06</td>\n",
              "      <td>2.000000</td>\n",
              "      <td>97.632000</td>\n",
              "    </tr>\n",
              "  </tbody>\n",
              "</table>\n",
              "</div>"
            ],
            "text/plain": [
              "          people_ID      Children  ...     FT/month   Infect_Prob\n",
              "count  10714.000000  10403.000000  ...  9991.000000  10714.000000\n",
              "mean   10084.893784      1.062770  ...     1.004604     52.280680\n",
              "std     7108.663645      0.818222  ...     0.815257     10.674667\n",
              "min        1.000000      0.000000  ...     0.000000     29.289600\n",
              "25%     2679.250000      0.000000  ...     0.000000     47.277426\n",
              "50%    10003.500000      1.000000  ...     1.000000     49.008389\n",
              "75%    15141.750000      2.000000  ...     2.000000     52.762313\n",
              "max    22695.000000      2.000000  ...     2.000000     97.632000\n",
              "\n",
              "[8 rows x 18 columns]"
            ]
          },
          "metadata": {
            "tags": []
          },
          "execution_count": 4
        }
      ]
    },
    {
      "cell_type": "code",
      "metadata": {
        "id": "LNBbWDUd5YTR",
        "colab_type": "code",
        "outputId": "f305f17c-9f9d-49ec-bbae-701a557359c8",
        "colab": {
          "base_uri": "https://localhost:8080/",
          "height": 681
        }
      },
      "source": [
        "#Correlation \n",
        "cor=df.corr()\n",
        "plt.figure(figsize=(20,10))\n",
        "sns.heatmap(cor,annot=True,)"
      ],
      "execution_count": 5,
      "outputs": [
        {
          "output_type": "execute_result",
          "data": {
            "text/plain": [
              "<matplotlib.axes._subplots.AxesSubplot at 0x7fd0afb52c88>"
            ]
          },
          "metadata": {
            "tags": []
          },
          "execution_count": 5
        },
        {
          "output_type": "display_data",
          "data": {
            "image/png": "[encoded data removed]",
            "text/plain": [
              "<Figure size 1440x720 with 2 Axes>"
            ]
          },
          "metadata": {
            "tags": []
          }
        }
      ]
    },
    {
      "cell_type": "code",
      "metadata": {
        "id": "cqJuGkqFGWLI",
        "colab_type": "code",
        "colab": {}
      },
      "source": [
        "#Dropping irrelevant features\n",
        "df=df.drop(['people_ID','Name','Designation'],axis=1)"
      ],
      "execution_count": 0,
      "outputs": []
    },
    {
      "cell_type": "code",
      "metadata": {
        "id": "P8RbctyyIQgQ",
        "colab_type": "code",
        "colab": {}
      },
      "source": [
        "# High correlation between cases/1M and death/1M(0.99)\n",
        "df=df.drop(['Deaths/1M'],axis=1)"
      ],
      "execution_count": 0,
      "outputs": []
    },
    {
      "cell_type": "code",
      "metadata": {
        "id": "STeuiacxPiQx",
        "colab_type": "code",
        "outputId": "f62a884c-8793-4fa0-c9b0-7075021fd215",
        "colab": {
          "base_uri": "https://localhost:8080/",
          "height": 297
        }
      },
      "source": [
        "#Plotting boxplot of Infect_prob wrt gender\n",
        "sns.boxplot(df['Infect_Prob'],df['Gender'])"
      ],
      "execution_count": 8,
      "outputs": [
        {
          "output_type": "execute_result",
          "data": {
            "text/plain": [
              "<matplotlib.axes._subplots.AxesSubplot at 0x7fd0afb815c0>"
            ]
          },
          "metadata": {
            "tags": []
          },
          "execution_count": 8
        },
        {
          "output_type": "display_data",
          "data": {
            "image/png": "[encoded data removed]",
            "text/plain": [
              "<Figure size 432x288 with 1 Axes>"
            ]
          },
          "metadata": {
            "tags": []
          }
        }
      ]
    },
    {
      "cell_type": "code",
      "metadata": {
        "id": "jlf3dcoZP6x8",
        "colab_type": "code",
        "outputId": "b336f3e8-73c2-4c6b-e65b-94c34972bd99",
        "colab": {
          "base_uri": "https://localhost:8080/",
          "height": 296
        }
      },
      "source": [
        "sns.countplot(df['Gender'])"
      ],
      "execution_count": 9,
      "outputs": [
        {
          "output_type": "execute_result",
          "data": {
            "text/plain": [
              "<matplotlib.axes._subplots.AxesSubplot at 0x7fd0afb819b0>"
            ]
          },
          "metadata": {
            "tags": []
          },
          "execution_count": 9
        },
        {
          "output_type": "display_data",
          "data": {
            "image/png": "[encoded data removed]",
            "text/plain": [
              "<Figure size 432x288 with 1 Axes>"
            ]
          },
          "metadata": {
            "tags": []
          }
        }
      ]
    },
    {
      "cell_type": "code",
      "metadata": {
        "id": "oJaxkyd3RSmE",
        "colab_type": "code",
        "colab": {}
      },
      "source": [
        "#Drop Gender as it has no relevance to output\n",
        "df=df.drop(['Gender'],axis=1)"
      ],
      "execution_count": 0,
      "outputs": []
    },
    {
      "cell_type": "code",
      "metadata": {
        "id": "17bqr7IoAPcT",
        "colab_type": "code",
        "outputId": "7a0b0f70-86ee-4279-ff23-9a2c24265d57",
        "colab": {
          "base_uri": "https://localhost:8080/",
          "height": 67
        }
      },
      "source": [
        "df['Married'].value_counts()"
      ],
      "execution_count": 11,
      "outputs": [
        {
          "output_type": "execute_result",
          "data": {
            "text/plain": [
              "YES    8481\n",
              "NO     2233\n",
              "Name: Married, dtype: int64"
            ]
          },
          "metadata": {
            "tags": []
          },
          "execution_count": 11
        }
      ]
    },
    {
      "cell_type": "code",
      "metadata": {
        "id": "xMUtTzbfKHfK",
        "colab_type": "code",
        "colab": {}
      },
      "source": [
        "#Encoding(Yes=1,No=0)\n",
        "df['Married']=df['Married'].replace(\"YES\",1)\n",
        "df['Married']=df['Married'].replace(\"NO\",0)"
      ],
      "execution_count": 0,
      "outputs": []
    },
    {
      "cell_type": "code",
      "metadata": {
        "id": "ebhbWAMKAkyr",
        "colab_type": "code",
        "outputId": "ca74e916-780b-4e49-ca36-2ebf73911088",
        "colab": {
          "base_uri": "https://localhost:8080/",
          "height": 84
        }
      },
      "source": [
        "df['Children'].value_counts()"
      ],
      "execution_count": 13,
      "outputs": [
        {
          "output_type": "execute_result",
          "data": {
            "text/plain": [
              "2.0    3829\n",
              "1.0    3398\n",
              "0.0    3176\n",
              "Name: Children, dtype: int64"
            ]
          },
          "metadata": {
            "tags": []
          },
          "execution_count": 13
        }
      ]
    },
    {
      "cell_type": "code",
      "metadata": {
        "id": "Ow3WGppyKh7M",
        "colab_type": "code",
        "colab": {}
      },
      "source": [
        "#Replacing nan values with mode value(categorical variable)\n",
        "df['Children']=df['Children'].replace('2',2)\n",
        "df['Children']=df['Children'].replace('1',1)\n",
        "df['Children']=df['Children'].replace('0',0)\n",
        "df['Children']=df['Children'].replace(np.NaN,2)"
      ],
      "execution_count": 0,
      "outputs": []
    },
    {
      "cell_type": "code",
      "metadata": {
        "id": "rH-9rPe_UvDA",
        "colab_type": "code",
        "colab": {}
      },
      "source": [
        "#Encoding\n",
        "df['Pulmonary score']=df['Pulmonary score'].replace('<400',0)\n",
        "df['Pulmonary score']=df['Pulmonary score'].replace('<300',1)\n",
        "df['Pulmonary score']=df['Pulmonary score'].replace('<200',2)\n",
        "df['Pulmonary score']=df['Pulmonary score'].replace('<100',3)"
      ],
      "execution_count": 0,
      "outputs": []
    },
    {
      "cell_type": "code",
      "metadata": {
        "id": "l3cM7xQaBaQe",
        "colab_type": "code",
        "outputId": "4ef71c36-0c1a-4e4d-a7ed-56fea3cf530d",
        "colab": {
          "base_uri": "https://localhost:8080/",
          "height": 118
        }
      },
      "source": [
        "#Grouping of cardiological and pulnomary score\n",
        "grouped = df.groupby(['Pulmonary score','cardiological pressure'])\n",
        "grouped.size()"
      ],
      "execution_count": 16,
      "outputs": [
        {
          "output_type": "execute_result",
          "data": {
            "text/plain": [
              "Pulmonary score  cardiological pressure\n",
              "0                Normal                    2681\n",
              "1                Elevated                  2641\n",
              "2                Stage-01                  2657\n",
              "3                Stage-02                  2638\n",
              "dtype: int64"
            ]
          },
          "metadata": {
            "tags": []
          },
          "execution_count": 16
        }
      ]
    },
    {
      "cell_type": "code",
      "metadata": {
        "id": "RPS7ZfkLHG4W",
        "colab_type": "code",
        "colab": {}
      },
      "source": [
        "#Drop cardiological pressure as is correlates with pulmonary\n",
        "df=df.drop(['cardiological pressure'],axis=1)"
      ],
      "execution_count": 0,
      "outputs": []
    },
    {
      "cell_type": "code",
      "metadata": {
        "id": "YxFVqfINHrjt",
        "colab_type": "code",
        "outputId": "aac1fa2e-b918-40cf-e6b0-bbe9f0b8592c",
        "colab": {
          "base_uri": "https://localhost:8080/",
          "height": 101
        }
      },
      "source": [
        "df['comorbidity'].value_counts()"
      ],
      "execution_count": 18,
      "outputs": [
        {
          "output_type": "execute_result",
          "data": {
            "text/plain": [
              "Hypertension              2642\n",
              "None                      2637\n",
              "Diabetes                  2614\n",
              "Coronary Heart Disease    2595\n",
              "Name: comorbidity, dtype: int64"
            ]
          },
          "metadata": {
            "tags": []
          },
          "execution_count": 18
        }
      ]
    },
    {
      "cell_type": "code",
      "metadata": {
        "id": "FoD_I6BjIZRb",
        "colab_type": "code",
        "colab": {}
      },
      "source": [
        "#Replacing nan values with forward fill method\n",
        "df['comorbidity']=df['comorbidity'].fillna(method='ffill',axis=0)"
      ],
      "execution_count": 0,
      "outputs": []
    },
    {
      "cell_type": "code",
      "metadata": {
        "id": "RBlzdza0XgMR",
        "colab_type": "code",
        "colab": {}
      },
      "source": [
        "#convert category to int\n",
        "df['comorbidity']=df['comorbidity'].replace('Hypertension',3)\n",
        "df['comorbidity']=df['comorbidity'].replace('Diabetes',2)\n",
        "df['comorbidity']=df['comorbidity'].replace('Coronary Heart Disease',1)\n",
        "df['comorbidity']=df['comorbidity'].replace('None',0)"
      ],
      "execution_count": 0,
      "outputs": []
    },
    {
      "cell_type": "code",
      "metadata": {
        "id": "gVp3ag1BKsWw",
        "colab_type": "code",
        "outputId": "9f6c2966-5399-45ea-a0f6-e38d19e445aa",
        "colab": {
          "base_uri": "https://localhost:8080/",
          "height": 84
        }
      },
      "source": [
        "df['Mode_transport'].value_counts()"
      ],
      "execution_count": 21,
      "outputs": [
        {
          "output_type": "execute_result",
          "data": {
            "text/plain": [
              "Public    3588\n",
              "Walk      3568\n",
              "Car       3555\n",
              "Name: Mode_transport, dtype: int64"
            ]
          },
          "metadata": {
            "tags": []
          },
          "execution_count": 21
        }
      ]
    },
    {
      "cell_type": "code",
      "metadata": {
        "id": "fM-eVMX6Ykvo",
        "colab_type": "code",
        "colab": {}
      },
      "source": [
        "#impute missing values with mode value(public=2)\n",
        "#Since only 3 missing values\n",
        "df['Mode_transport']=df['Mode_transport'].replace('Public',2)\n",
        "df['Mode_transport']=df['Mode_transport'].replace('Walk',1)\n",
        "df['Mode_transport']=df['Mode_transport'].replace('Car',0)\n",
        "df['Mode_transport']=df['Mode_transport'].replace(np.NaN,2)"
      ],
      "execution_count": 0,
      "outputs": []
    },
    {
      "cell_type": "code",
      "metadata": {
        "id": "1Mv_Dy3rRUqZ",
        "colab_type": "code",
        "outputId": "65ca8719-23ea-4e4d-ea7f-cd830bde7c0b",
        "colab": {
          "base_uri": "https://localhost:8080/",
          "height": 299
        }
      },
      "source": [
        "sns.countplot(df['FT/month'])"
      ],
      "execution_count": 23,
      "outputs": [
        {
          "output_type": "execute_result",
          "data": {
            "text/plain": [
              "<matplotlib.axes._subplots.AxesSubplot at 0x7fd0afbc1ef0>"
            ]
          },
          "metadata": {
            "tags": []
          },
          "execution_count": 23
        },
        {
          "output_type": "display_data",
          "data": {
            "image/png": "[encoded data removed]",
            "text/plain": [
              "<Figure size 432x288 with 1 Axes>"
            ]
          },
          "metadata": {
            "tags": []
          }
        }
      ]
    },
    {
      "cell_type": "code",
      "metadata": {
        "id": "tDTu29TtT2pg",
        "colab_type": "code",
        "outputId": "890a9c0e-5ad4-4496-970c-80a97930832c",
        "colab": {
          "base_uri": "https://localhost:8080/",
          "height": 84
        }
      },
      "source": [
        "df['FT/month'].value_counts()"
      ],
      "execution_count": 24,
      "outputs": [
        {
          "output_type": "execute_result",
          "data": {
            "text/plain": [
              "1.0    3351\n",
              "2.0    3343\n",
              "0.0    3297\n",
              "Name: FT/month, dtype: int64"
            ]
          },
          "metadata": {
            "tags": []
          },
          "execution_count": 24
        }
      ]
    },
    {
      "cell_type": "code",
      "metadata": {
        "id": "fxivB8uEYb0Z",
        "colab_type": "code",
        "colab": {}
      },
      "source": [
        "#Filling missing values with mode (1)\n",
        "df['FT/month']=df['FT/month'].fillna(1)"
      ],
      "execution_count": 0,
      "outputs": []
    },
    {
      "cell_type": "markdown",
      "metadata": {
        "id": "sZIzcp6IB1L6",
        "colab_type": "text"
      },
      "source": [
        "***Plotting box plot for various features ***\n"
      ]
    },
    {
      "cell_type": "code",
      "metadata": {
        "id": "-m2L2ZlpY2gf",
        "colab_type": "code",
        "outputId": "2c78b53e-a873-463b-fcf6-7592231fbc3f",
        "colab": {
          "base_uri": "https://localhost:8080/",
          "height": 296
        }
      },
      "source": [
        "sns.boxplot(df['Insurance'])"
      ],
      "execution_count": 26,
      "outputs": [
        {
          "output_type": "execute_result",
          "data": {
            "text/plain": [
              "<matplotlib.axes._subplots.AxesSubplot at 0x7fd0a9fbbeb8>"
            ]
          },
          "metadata": {
            "tags": []
          },
          "execution_count": 26
        },
        {
          "output_type": "display_data",
          "data": {
            "image/png": "[encoded data removed]",
            "text/plain": [
              "<Figure size 432x288 with 1 Axes>"
            ]
          },
          "metadata": {
            "tags": []
          }
        }
      ]
    },
    {
      "cell_type": "code",
      "metadata": {
        "id": "iFmxgYfcaFu9",
        "colab_type": "code",
        "outputId": "2781a065-87af-401f-e580-17c89a1e439b",
        "colab": {
          "base_uri": "https://localhost:8080/",
          "height": 296
        }
      },
      "source": [
        "sns.boxplot(df['Heart rate'])"
      ],
      "execution_count": 27,
      "outputs": [
        {
          "output_type": "execute_result",
          "data": {
            "text/plain": [
              "<matplotlib.axes._subplots.AxesSubplot at 0x7fd0a9f3b828>"
            ]
          },
          "metadata": {
            "tags": []
          },
          "execution_count": 27
        },
        {
          "output_type": "display_data",
          "data": {
            "image/png": "[encoded data removed]",
            "text/plain": [
              "<Figure size 432x288 with 1 Axes>"
            ]
          },
          "metadata": {
            "tags": []
          }
        }
      ]
    },
    {
      "cell_type": "code",
      "metadata": {
        "id": "hUZV7Zhvbvro",
        "colab_type": "code",
        "outputId": "ecd17aab-65cd-4e03-9e2b-81e70a90bc93",
        "colab": {
          "base_uri": "https://localhost:8080/",
          "height": 296
        }
      },
      "source": [
        "sns.boxplot(df['d-dimer'])"
      ],
      "execution_count": 28,
      "outputs": [
        {
          "output_type": "execute_result",
          "data": {
            "text/plain": [
              "<matplotlib.axes._subplots.AxesSubplot at 0x7fd0a9f1ad68>"
            ]
          },
          "metadata": {
            "tags": []
          },
          "execution_count": 28
        },
        {
          "output_type": "display_data",
          "data": {
            "image/png": "[encoded data removed]",
            "text/plain": [
              "<Figure size 432x288 with 1 Axes>"
            ]
          },
          "metadata": {
            "tags": []
          }
        }
      ]
    },
    {
      "cell_type": "code",
      "metadata": {
        "id": "QeflRtm_cFQl",
        "colab_type": "code",
        "outputId": "f81d1984-17a5-4a19-e336-92bc9bcaf26f",
        "colab": {
          "base_uri": "https://localhost:8080/",
          "height": 296
        }
      },
      "source": [
        "sns.boxplot(df['HDL cholesterol'])"
      ],
      "execution_count": 29,
      "outputs": [
        {
          "output_type": "execute_result",
          "data": {
            "text/plain": [
              "<matplotlib.axes._subplots.AxesSubplot at 0x7fd0ab8c9a58>"
            ]
          },
          "metadata": {
            "tags": []
          },
          "execution_count": 29
        },
        {
          "output_type": "display_data",
          "data": {
            "image/png": "[encoded data removed]",
            "text/plain": [
              "<Figure size 432x288 with 1 Axes>"
            ]
          },
          "metadata": {
            "tags": []
          }
        }
      ]
    },
    {
      "cell_type": "code",
      "metadata": {
        "id": "cuSyy0-1crag",
        "colab_type": "code",
        "outputId": "3f738b0c-89fe-4ada-c47a-7dc3589f0fb6",
        "colab": {
          "base_uri": "https://localhost:8080/",
          "height": 296
        }
      },
      "source": [
        "sns.boxplot(df['HBB'])"
      ],
      "execution_count": 30,
      "outputs": [
        {
          "output_type": "execute_result",
          "data": {
            "text/plain": [
              "<matplotlib.axes._subplots.AxesSubplot at 0x7fd0ab8677f0>"
            ]
          },
          "metadata": {
            "tags": []
          },
          "execution_count": 30
        },
        {
          "output_type": "display_data",
          "data": {
            "image/png": "[encoded data removed]",
            "text/plain": [
              "<Figure size 432x288 with 1 Axes>"
            ]
          },
          "metadata": {
            "tags": []
          }
        }
      ]
    },
    {
      "cell_type": "code",
      "metadata": {
        "id": "gHk_DtaWdueO",
        "colab_type": "code",
        "outputId": "ecb58138-8eb7-42aa-c041-6637e0b2fb6d",
        "colab": {
          "base_uri": "https://localhost:8080/",
          "height": 296
        }
      },
      "source": [
        "sns.boxplot(df['Platelets'])"
      ],
      "execution_count": 31,
      "outputs": [
        {
          "output_type": "execute_result",
          "data": {
            "text/plain": [
              "<matplotlib.axes._subplots.AxesSubplot at 0x7fd0a9e02ac8>"
            ]
          },
          "metadata": {
            "tags": []
          },
          "execution_count": 31
        },
        {
          "output_type": "display_data",
          "data": {
            "image/png": "[encoded data removed]",
            "text/plain": [
              "<Figure size 432x288 with 1 Axes>"
            ]
          },
          "metadata": {
            "tags": []
          }
        }
      ]
    },
    {
      "cell_type": "code",
      "metadata": {
        "id": "xGXGFEloecsL",
        "colab_type": "code",
        "outputId": "62c11fad-f754-4ade-8848-012a347add78",
        "colab": {
          "base_uri": "https://localhost:8080/",
          "height": 296
        }
      },
      "source": [
        "sns.boxplot(df['Diuresis'])"
      ],
      "execution_count": 32,
      "outputs": [
        {
          "output_type": "execute_result",
          "data": {
            "text/plain": [
              "<matplotlib.axes._subplots.AxesSubplot at 0x7fd0a9dd6c88>"
            ]
          },
          "metadata": {
            "tags": []
          },
          "execution_count": 32
        },
        {
          "output_type": "display_data",
          "data": {
            "image/png": "[encoded data removed]",
            "text/plain": [
              "<Figure size 432x288 with 1 Axes>"
            ]
          },
          "metadata": {
            "tags": []
          }
        }
      ]
    },
    {
      "cell_type": "markdown",
      "metadata": {
        "id": "faF0fkd3CPXm",
        "colab_type": "text"
      },
      "source": [
        "**No outliers** present,\n",
        "Fill missing value with **Mean Value**"
      ]
    },
    {
      "cell_type": "code",
      "metadata": {
        "id": "O5gqIaNHZAgT",
        "colab_type": "code",
        "colab": {}
      },
      "source": [
        "#No outliers present \n",
        "df['Insurance']=df['Insurance'].fillna(df['Insurance'].mean())\n",
        "df['Heart rate']=df['Heart rate'].fillna(df['Heart rate'].mean())\n",
        "df['d-dimer']=df['d-dimer'].fillna(df['d-dimer'].mean())\n",
        "df['HDL cholesterol']=df['HDL cholesterol'].fillna(df['HDL cholesterol'].mean())\n",
        "df['HBB']=df['HBB'].fillna(df['HBB'].mean())\n",
        "df['Platelets']=df['Platelets'].fillna(df['Platelets'].mean())\n",
        "df['Diuresis']=df['Diuresis'].fillna(df['Diuresis'].mean())"
      ],
      "execution_count": 0,
      "outputs": []
    },
    {
      "cell_type": "code",
      "metadata": {
        "id": "-hIU2G-pfTa4",
        "colab_type": "code",
        "outputId": "cbc11767-6c9c-4fe4-898e-1d36ce1ac5a9",
        "colab": {
          "base_uri": "https://localhost:8080/",
          "height": 296
        }
      },
      "source": [
        "#Countplot for Occupation Features\n",
        "sns.countplot(df['Occupation'])"
      ],
      "execution_count": 34,
      "outputs": [
        {
          "output_type": "execute_result",
          "data": {
            "text/plain": [
              "<matplotlib.axes._subplots.AxesSubplot at 0x7fd0a9d3d978>"
            ]
          },
          "metadata": {
            "tags": []
          },
          "execution_count": 34
        },
        {
          "output_type": "display_data",
          "data": {
            "image/png": "[encoded data removed]",
            "text/plain": [
              "<Figure size 432x288 with 1 Axes>"
            ]
          },
          "metadata": {
            "tags": []
          }
        }
      ]
    },
    {
      "cell_type": "code",
      "metadata": {
        "id": "fUaT7bhmfhAN",
        "colab_type": "code",
        "colab": {}
      },
      "source": [
        "#Since all categories are approximately available in equal no.\n",
        "#We make a new Other category\n",
        "df['Occupation']=df['Occupation'].fillna('Other')"
      ],
      "execution_count": 0,
      "outputs": []
    },
    {
      "cell_type": "code",
      "metadata": {
        "id": "OocTtDmI20cs",
        "colab_type": "code",
        "colab": {}
      },
      "source": [
        "#Label Encoding for Occupation features\n",
        "le = LabelEncoder() \n",
        "df['Occupation']= le.fit_transform(df['Occupation'])"
      ],
      "execution_count": 0,
      "outputs": []
    },
    {
      "cell_type": "code",
      "metadata": {
        "id": "SKO2nnll7bBk",
        "colab_type": "code",
        "colab": {}
      },
      "source": [
        "#Label Encoding for Region features\n",
        "le1 = LabelEncoder() \n",
        "df['Region']= le1.fit_transform(df['Region'])"
      ],
      "execution_count": 0,
      "outputs": []
    },
    {
      "cell_type": "code",
      "metadata": {
        "id": "q4oyr2zvGzej",
        "colab_type": "code",
        "colab": {}
      },
      "source": [
        "#Seperate dependent and independent variables \n",
        "x=df.iloc[:,:-1]\n",
        "y=df['Infect_Prob']"
      ],
      "execution_count": 0,
      "outputs": []
    },
    {
      "cell_type": "code",
      "metadata": {
        "id": "5yHz11iV0Lr5",
        "colab_type": "code",
        "colab": {}
      },
      "source": [
        "#Spillting of training and validation set\n",
        "x_train,x_val,y_train,y_val = train_test_split(x,y, test_size=0.20, random_state=0)"
      ],
      "execution_count": 0,
      "outputs": []
    },
    {
      "cell_type": "markdown",
      "metadata": {
        "id": "sJb5apDiEP55",
        "colab_type": "text"
      },
      "source": [
        "**Grid Search CV**"
      ]
    },
    {
      "cell_type": "code",
      "metadata": {
        "id": "5eVn15ySu6yj",
        "colab_type": "code",
        "colab": {}
      },
      "source": [
        "# Create the parameter grid based on the results of random search \n",
        "param_grid = {\n",
        "    'bootstrap': [True],\n",
        "    'max_depth': [2,5,8,10],\n",
        "    'max_features': [2, 3],\n",
        "    'min_samples_leaf': [3, 4, 5],\n",
        "    'min_samples_split': [8, 10, 12],\n",
        "    'n_estimators': [100,500,1000,1500]}"
      ],
      "execution_count": 0,
      "outputs": []
    },
    {
      "cell_type": "code",
      "metadata": {
        "id": "e3E1D3-29dfA",
        "colab_type": "code",
        "colab": {}
      },
      "source": [
        "# Instantiate the grid search model\n",
        "grid_search= GridSearchCV( estimator=RandomForestRegressor(), param_grid = param_grid, cv = 3, n_jobs = -1, verbose = 2)   "
      ],
      "execution_count": 0,
      "outputs": []
    },
    {
      "cell_type": "code",
      "metadata": {
        "id": "jT8QUkgV7tpQ",
        "colab_type": "code",
        "outputId": "7ef7573c-848c-4d44-9d79-775804907b9f",
        "colab": {
          "base_uri": "https://localhost:8080/",
          "height": 235
        }
      },
      "source": [
        "# Fit the grid search to the data\n",
        "grid_search.fit(x_train, y_train)\n",
        "grid_search.best_params_"
      ],
      "execution_count": 0,
      "outputs": [
        {
          "output_type": "stream",
          "text": [
            "Fitting 3 folds for each of 288 candidates, totalling 864 fits\n"
          ],
          "name": "stdout"
        },
        {
          "output_type": "stream",
          "text": [
            "[Parallel(n_jobs=-1)]: Using backend LokyBackend with 2 concurrent workers.\n",
            "[Parallel(n_jobs=-1)]: Done  37 tasks      | elapsed:   45.2s\n",
            "[Parallel(n_jobs=-1)]: Done 158 tasks      | elapsed:  3.3min\n",
            "[Parallel(n_jobs=-1)]: Done 361 tasks      | elapsed:  9.1min\n",
            "[Parallel(n_jobs=-1)]: Done 644 tasks      | elapsed: 21.1min\n",
            "[Parallel(n_jobs=-1)]: Done 864 out of 864 | elapsed: 32.9min finished\n"
          ],
          "name": "stderr"
        },
        {
          "output_type": "execute_result",
          "data": {
            "text/plain": [
              "{'bootstrap': True,\n",
              " 'max_depth': 10,\n",
              " 'max_features': 3,\n",
              " 'min_samples_leaf': 4,\n",
              " 'min_samples_split': 8,\n",
              " 'n_estimators': 500}"
            ]
          },
          "metadata": {
            "tags": []
          },
          "execution_count": 49
        }
      ]
    },
    {
      "cell_type": "markdown",
      "metadata": {
        "id": "mDl5z7W6EfJO",
        "colab_type": "text"
      },
      "source": [
        "**Random Forest Regressor**"
      ]
    },
    {
      "cell_type": "code",
      "metadata": {
        "id": "jnlZlXTi4NDE",
        "colab_type": "code",
        "colab": {}
      },
      "source": [
        "reg=RandomForestRegressor(n_estimators=500,bootstrap=True,max_depth=10,max_features=3,min_samples_leaf=4,min_samples_split=8,random_state=0)\n",
        "reg.fit(x_train,y_train)\n",
        "pre=reg.predict(x_val)"
      ],
      "execution_count": 0,
      "outputs": []
    },
    {
      "cell_type": "code",
      "metadata": {
        "id": "XvRHvqxV6PzI",
        "colab_type": "code",
        "outputId": "f64552f4-74d0-411d-9068-511e314b56a9",
        "colab": {
          "base_uri": "https://localhost:8080/",
          "height": 34
        }
      },
      "source": [
        "#Root Mean Square error(RMSE) Calculation\n",
        "error=(pre-y_val)**2\n",
        "err=np.sqrt((error.sum())/x_val.shape[0])\n",
        "err"
      ],
      "execution_count": 43,
      "outputs": [
        {
          "output_type": "execute_result",
          "data": {
            "text/plain": [
              "9.051754433922298"
            ]
          },
          "metadata": {
            "tags": []
          },
          "execution_count": 43
        }
      ]
    },
    {
      "cell_type": "markdown",
      "metadata": {
        "id": "NDUk-loeFapi",
        "colab_type": "text"
      },
      "source": [
        "**ANN Model**"
      ]
    },
    {
      "cell_type": "code",
      "metadata": {
        "id": "HwpfiKxxEfQE",
        "colab_type": "code",
        "colab": {}
      },
      "source": [
        "# Feature Scaling\n",
        "sc_x = StandardScaler()\n",
        "x = sc_x.fit_transform(x)"
      ],
      "execution_count": 0,
      "outputs": []
    },
    {
      "cell_type": "code",
      "metadata": {
        "id": "wvZXs4NREPjH",
        "colab_type": "code",
        "outputId": "4adbaf92-466e-487d-fe61-e1af140141f2",
        "colab": {
          "base_uri": "https://localhost:8080/",
          "height": 474
        }
      },
      "source": [
        "# For building Neural Network Layers \n",
        "NN_model = Sequential()\n",
        "\n",
        "# The Input Layer :\n",
        "NN_model.add(Dense(128, kernel_initializer='normal',input_dim = x.shape[1], activation='relu'))\n",
        "\n",
        "# The Hidden Layers :\n",
        "NN_model.add(Dense(256, kernel_initializer='normal',activation='relu'))\n",
        "NN_model.add(Dense(256, kernel_initializer='normal',activation='relu'))\n",
        "NN_model.add(Dense(256, kernel_initializer='normal',activation='relu'))\n",
        "\n",
        "# The Output Layer :\n",
        "NN_model.add(Dense(1, kernel_initializer='normal',activation='linear'))\n",
        "\n",
        "# Compile the network :\n",
        "NN_model.compile(loss='mean_absolute_error', optimizer='adam', metrics=['mean_absolute_error'])\n",
        "NN_model.summary()"
      ],
      "execution_count": 45,
      "outputs": [
        {
          "output_type": "stream",
          "text": [
            "WARNING:tensorflow:From /usr/local/lib/python3.6/dist-packages/keras/backend/tensorflow_backend.py:66: The name tf.get_default_graph is deprecated. Please use tf.compat.v1.get_default_graph instead.\n",
            "\n",
            "WARNING:tensorflow:From /usr/local/lib/python3.6/dist-packages/keras/backend/tensorflow_backend.py:541: The name tf.placeholder is deprecated. Please use tf.compat.v1.placeholder instead.\n",
            "\n",
            "WARNING:tensorflow:From /usr/local/lib/python3.6/dist-packages/keras/backend/tensorflow_backend.py:4409: The name tf.random_normal is deprecated. Please use tf.random.normal instead.\n",
            "\n",
            "WARNING:tensorflow:From /usr/local/lib/python3.6/dist-packages/keras/optimizers.py:793: The name tf.train.Optimizer is deprecated. Please use tf.compat.v1.train.Optimizer instead.\n",
            "\n",
            "Model: \"sequential_1\"\n",
            "_________________________________________________________________\n",
            "Layer (type)                 Output Shape              Param #   \n",
            "=================================================================\n",
            "dense_1 (Dense)              (None, 128)               2816      \n",
            "_________________________________________________________________\n",
            "dense_2 (Dense)              (None, 256)               33024     \n",
            "_________________________________________________________________\n",
            "dense_3 (Dense)              (None, 256)               65792     \n",
            "_________________________________________________________________\n",
            "dense_4 (Dense)              (None, 256)               65792     \n",
            "_________________________________________________________________\n",
            "dense_5 (Dense)              (None, 1)                 257       \n",
            "=================================================================\n",
            "Total params: 167,681\n",
            "Trainable params: 167,681\n",
            "Non-trainable params: 0\n",
            "_________________________________________________________________\n"
          ],
          "name": "stdout"
        }
      ]
    },
    {
      "cell_type": "code",
      "metadata": {
        "id": "ylu5cETVEPaT",
        "colab_type": "code",
        "outputId": "a754d119-1d2f-4c3d-b7d8-d428cf983b08",
        "colab": {
          "base_uri": "https://localhost:8080/",
          "height": 1000
        }
      },
      "source": [
        "#Fitting the NN\n",
        "NN_model.fit(x, y, epochs=500, batch_size=32, validation_split = 0.2)"
      ],
      "execution_count": 46,
      "outputs": [
        {
          "output_type": "stream",
          "text": [
            "WARNING:tensorflow:From /usr/local/lib/python3.6/dist-packages/keras/backend/tensorflow_backend.py:1033: The name tf.assign_add is deprecated. Please use tf.compat.v1.assign_add instead.\n",
            "\n",
            "WARNING:tensorflow:From /usr/local/lib/python3.6/dist-packages/keras/backend/tensorflow_backend.py:1020: The name tf.assign is deprecated. Please use tf.compat.v1.assign instead.\n",
            "\n",
            "WARNING:tensorflow:From /usr/local/lib/python3.6/dist-packages/keras/backend/tensorflow_backend.py:3005: The name tf.Session is deprecated. Please use tf.compat.v1.Session instead.\n",
            "\n",
            "Train on 8571 samples, validate on 2143 samples\n",
            "Epoch 1/500\n",
            "WARNING:tensorflow:From /usr/local/lib/python3.6/dist-packages/keras/backend/tensorflow_backend.py:190: The name tf.get_default_session is deprecated. Please use tf.compat.v1.get_default_session instead.\n",
            "\n",
            "WARNING:tensorflow:From /usr/local/lib/python3.6/dist-packages/keras/backend/tensorflow_backend.py:197: The name tf.ConfigProto is deprecated. Please use tf.compat.v1.ConfigProto instead.\n",
            "\n",
            "WARNING:tensorflow:From /usr/local/lib/python3.6/dist-packages/keras/backend/tensorflow_backend.py:207: The name tf.global_variables is deprecated. Please use tf.compat.v1.global_variables instead.\n",
            "\n",
            "WARNING:tensorflow:From /usr/local/lib/python3.6/dist-packages/keras/backend/tensorflow_backend.py:216: The name tf.is_variable_initialized is deprecated. Please use tf.compat.v1.is_variable_initialized instead.\n",
            "\n",
            "WARNING:tensorflow:From /usr/local/lib/python3.6/dist-packages/keras/backend/tensorflow_backend.py:223: The name tf.variables_initializer is deprecated. Please use tf.compat.v1.variables_initializer instead.\n",
            "\n",
            "8571/8571 [==============================] - 2s 199us/step - loss: 9.7323 - mean_absolute_error: 9.7323 - val_loss: 5.9558 - val_mean_absolute_error: 5.9558\n",
            "Epoch 2/500\n",
            "8571/8571 [==============================] - 1s 123us/step - loss: 5.6461 - mean_absolute_error: 5.6461 - val_loss: 5.5305 - val_mean_absolute_error: 5.5305\n",
            "Epoch 3/500\n",
            "8571/8571 [==============================] - 1s 114us/step - loss: 5.1423 - mean_absolute_error: 5.1423 - val_loss: 4.8729 - val_mean_absolute_error: 4.8729\n",
            "Epoch 4/500\n",
            "8571/8571 [==============================] - 1s 115us/step - loss: 4.7494 - mean_absolute_error: 4.7494 - val_loss: 4.5388 - val_mean_absolute_error: 4.5388\n",
            "Epoch 5/500\n",
            "8571/8571 [==============================] - 1s 121us/step - loss: 4.4689 - mean_absolute_error: 4.4689 - val_loss: 4.2088 - val_mean_absolute_error: 4.2088\n",
            "Epoch 6/500\n",
            "8571/8571 [==============================] - 1s 112us/step - loss: 4.3004 - mean_absolute_error: 4.3004 - val_loss: 4.2687 - val_mean_absolute_error: 4.2687\n",
            "Epoch 7/500\n",
            "8571/8571 [==============================] - 1s 116us/step - loss: 4.1541 - mean_absolute_error: 4.1541 - val_loss: 4.2845 - val_mean_absolute_error: 4.2845\n",
            "Epoch 8/500\n",
            "8571/8571 [==============================] - 1s 110us/step - loss: 4.0967 - mean_absolute_error: 4.0967 - val_loss: 4.0461 - val_mean_absolute_error: 4.0461\n",
            "Epoch 9/500\n",
            "8571/8571 [==============================] - 1s 114us/step - loss: 4.0808 - mean_absolute_error: 4.0808 - val_loss: 4.2275 - val_mean_absolute_error: 4.2275\n",
            "Epoch 10/500\n",
            "8571/8571 [==============================] - 1s 113us/step - loss: 4.1716 - mean_absolute_error: 4.1716 - val_loss: 3.9258 - val_mean_absolute_error: 3.9258\n",
            "Epoch 11/500\n",
            "8571/8571 [==============================] - 1s 112us/step - loss: 4.0082 - mean_absolute_error: 4.0082 - val_loss: 4.2680 - val_mean_absolute_error: 4.2680\n",
            "Epoch 12/500\n",
            "8571/8571 [==============================] - 1s 112us/step - loss: 3.9353 - mean_absolute_error: 3.9353 - val_loss: 3.9752 - val_mean_absolute_error: 3.9752\n",
            "Epoch 13/500\n",
            "8571/8571 [==============================] - 1s 115us/step - loss: 3.9261 - mean_absolute_error: 3.9261 - val_loss: 3.9317 - val_mean_absolute_error: 3.9317\n",
            "Epoch 14/500\n",
            "8571/8571 [==============================] - 1s 115us/step - loss: 3.9933 - mean_absolute_error: 3.9933 - val_loss: 4.0122 - val_mean_absolute_error: 4.0122\n",
            "Epoch 15/500\n",
            "8571/8571 [==============================] - 1s 114us/step - loss: 3.9580 - mean_absolute_error: 3.9580 - val_loss: 3.8665 - val_mean_absolute_error: 3.8665\n",
            "Epoch 16/500\n",
            "8571/8571 [==============================] - 1s 117us/step - loss: 3.9303 - mean_absolute_error: 3.9303 - val_loss: 3.9539 - val_mean_absolute_error: 3.9539\n",
            "Epoch 17/500\n",
            "8571/8571 [==============================] - 1s 115us/step - loss: 3.9767 - mean_absolute_error: 3.9767 - val_loss: 3.8613 - val_mean_absolute_error: 3.8613\n",
            "Epoch 18/500\n",
            "8571/8571 [==============================] - 1s 114us/step - loss: 3.8105 - mean_absolute_error: 3.8105 - val_loss: 4.0373 - val_mean_absolute_error: 4.0373\n",
            "Epoch 19/500\n",
            "8571/8571 [==============================] - 1s 120us/step - loss: 3.8796 - mean_absolute_error: 3.8796 - val_loss: 3.9278 - val_mean_absolute_error: 3.9278\n",
            "Epoch 20/500\n",
            "8571/8571 [==============================] - 1s 113us/step - loss: 3.7661 - mean_absolute_error: 3.7661 - val_loss: 3.8297 - val_mean_absolute_error: 3.8297\n",
            "Epoch 21/500\n",
            "8571/8571 [==============================] - 1s 110us/step - loss: 3.7073 - mean_absolute_error: 3.7073 - val_loss: 3.8701 - val_mean_absolute_error: 3.8701\n",
            "Epoch 22/500\n",
            "8571/8571 [==============================] - 1s 114us/step - loss: 3.6605 - mean_absolute_error: 3.6605 - val_loss: 4.2814 - val_mean_absolute_error: 4.2814\n",
            "Epoch 23/500\n",
            "8571/8571 [==============================] - 1s 112us/step - loss: 3.6903 - mean_absolute_error: 3.6903 - val_loss: 3.9458 - val_mean_absolute_error: 3.9458\n",
            "Epoch 24/500\n",
            "8571/8571 [==============================] - 1s 114us/step - loss: 3.6386 - mean_absolute_error: 3.6386 - val_loss: 3.9406 - val_mean_absolute_error: 3.9406\n",
            "Epoch 25/500\n",
            "8571/8571 [==============================] - 1s 116us/step - loss: 3.5553 - mean_absolute_error: 3.5553 - val_loss: 3.9013 - val_mean_absolute_error: 3.9013\n",
            "Epoch 26/500\n",
            "8571/8571 [==============================] - 1s 117us/step - loss: 3.6494 - mean_absolute_error: 3.6494 - val_loss: 3.9080 - val_mean_absolute_error: 3.9080\n",
            "Epoch 27/500\n",
            "8571/8571 [==============================] - 1s 119us/step - loss: 3.6052 - mean_absolute_error: 3.6052 - val_loss: 4.0679 - val_mean_absolute_error: 4.0679\n",
            "Epoch 28/500\n",
            "8571/8571 [==============================] - 1s 114us/step - loss: 3.5474 - mean_absolute_error: 3.5474 - val_loss: 3.9002 - val_mean_absolute_error: 3.9002\n",
            "Epoch 29/500\n",
            "8571/8571 [==============================] - 1s 114us/step - loss: 3.4519 - mean_absolute_error: 3.4519 - val_loss: 3.9711 - val_mean_absolute_error: 3.9711\n",
            "Epoch 30/500\n",
            "8571/8571 [==============================] - 1s 110us/step - loss: 3.4945 - mean_absolute_error: 3.4945 - val_loss: 4.1044 - val_mean_absolute_error: 4.1044\n",
            "Epoch 31/500\n",
            "8571/8571 [==============================] - 1s 111us/step - loss: 3.4380 - mean_absolute_error: 3.4380 - val_loss: 3.9401 - val_mean_absolute_error: 3.9401\n",
            "Epoch 32/500\n",
            "8571/8571 [==============================] - 1s 114us/step - loss: 3.3569 - mean_absolute_error: 3.3569 - val_loss: 3.9982 - val_mean_absolute_error: 3.9982\n",
            "Epoch 33/500\n",
            "8571/8571 [==============================] - 1s 114us/step - loss: 3.3653 - mean_absolute_error: 3.3653 - val_loss: 4.3342 - val_mean_absolute_error: 4.3342\n",
            "Epoch 34/500\n",
            "8571/8571 [==============================] - 1s 112us/step - loss: 3.3670 - mean_absolute_error: 3.3670 - val_loss: 3.9957 - val_mean_absolute_error: 3.9957\n",
            "Epoch 35/500\n",
            "8571/8571 [==============================] - 1s 111us/step - loss: 3.2681 - mean_absolute_error: 3.2681 - val_loss: 4.1246 - val_mean_absolute_error: 4.1246\n",
            "Epoch 36/500\n",
            "8571/8571 [==============================] - 1s 113us/step - loss: 3.3781 - mean_absolute_error: 3.3781 - val_loss: 4.3483 - val_mean_absolute_error: 4.3483\n",
            "Epoch 37/500\n",
            "8571/8571 [==============================] - 1s 112us/step - loss: 3.2333 - mean_absolute_error: 3.2333 - val_loss: 4.0587 - val_mean_absolute_error: 4.0587\n",
            "Epoch 38/500\n",
            "8571/8571 [==============================] - 1s 120us/step - loss: 3.1539 - mean_absolute_error: 3.1539 - val_loss: 4.1736 - val_mean_absolute_error: 4.1736\n",
            "Epoch 39/500\n",
            "8571/8571 [==============================] - 1s 113us/step - loss: 3.1395 - mean_absolute_error: 3.1395 - val_loss: 4.1363 - val_mean_absolute_error: 4.1363\n",
            "Epoch 40/500\n",
            "8571/8571 [==============================] - 1s 117us/step - loss: 3.1444 - mean_absolute_error: 3.1444 - val_loss: 4.2754 - val_mean_absolute_error: 4.2754\n",
            "Epoch 41/500\n",
            "8571/8571 [==============================] - 1s 112us/step - loss: 3.0589 - mean_absolute_error: 3.0589 - val_loss: 4.0498 - val_mean_absolute_error: 4.0498\n",
            "Epoch 42/500\n",
            "8571/8571 [==============================] - 1s 109us/step - loss: 3.0179 - mean_absolute_error: 3.0179 - val_loss: 4.2240 - val_mean_absolute_error: 4.2240\n",
            "Epoch 43/500\n",
            "8571/8571 [==============================] - 1s 114us/step - loss: 3.0154 - mean_absolute_error: 3.0154 - val_loss: 4.1542 - val_mean_absolute_error: 4.1542\n",
            "Epoch 44/500\n",
            "8571/8571 [==============================] - 1s 115us/step - loss: 3.0061 - mean_absolute_error: 3.0061 - val_loss: 4.3418 - val_mean_absolute_error: 4.3418\n",
            "Epoch 45/500\n",
            "8571/8571 [==============================] - 1s 111us/step - loss: 2.9121 - mean_absolute_error: 2.9121 - val_loss: 4.4088 - val_mean_absolute_error: 4.4088\n",
            "Epoch 46/500\n",
            "8571/8571 [==============================] - 1s 118us/step - loss: 2.8768 - mean_absolute_error: 2.8768 - val_loss: 4.4319 - val_mean_absolute_error: 4.4319\n",
            "Epoch 47/500\n",
            "8571/8571 [==============================] - 1s 114us/step - loss: 2.8209 - mean_absolute_error: 2.8209 - val_loss: 4.1309 - val_mean_absolute_error: 4.1309\n",
            "Epoch 48/500\n",
            "8571/8571 [==============================] - 1s 115us/step - loss: 2.8692 - mean_absolute_error: 2.8692 - val_loss: 4.2646 - val_mean_absolute_error: 4.2646\n",
            "Epoch 49/500\n",
            "8571/8571 [==============================] - 1s 114us/step - loss: 2.6694 - mean_absolute_error: 2.6694 - val_loss: 4.3101 - val_mean_absolute_error: 4.3101\n",
            "Epoch 50/500\n",
            "8571/8571 [==============================] - 1s 115us/step - loss: 2.6352 - mean_absolute_error: 2.6352 - val_loss: 4.1731 - val_mean_absolute_error: 4.1731\n",
            "Epoch 51/500\n",
            "8571/8571 [==============================] - 1s 114us/step - loss: 2.6155 - mean_absolute_error: 2.6155 - val_loss: 4.4973 - val_mean_absolute_error: 4.4973\n",
            "Epoch 52/500\n",
            "8571/8571 [==============================] - 1s 113us/step - loss: 2.6737 - mean_absolute_error: 2.6737 - val_loss: 4.4698 - val_mean_absolute_error: 4.4698\n",
            "Epoch 53/500\n",
            "8571/8571 [==============================] - 1s 112us/step - loss: 2.5589 - mean_absolute_error: 2.5589 - val_loss: 4.4092 - val_mean_absolute_error: 4.4092\n",
            "Epoch 54/500\n",
            "8571/8571 [==============================] - 1s 112us/step - loss: 2.5489 - mean_absolute_error: 2.5489 - val_loss: 4.5024 - val_mean_absolute_error: 4.5024\n",
            "Epoch 55/500\n",
            "8571/8571 [==============================] - 1s 114us/step - loss: 2.4363 - mean_absolute_error: 2.4363 - val_loss: 4.7479 - val_mean_absolute_error: 4.7479\n",
            "Epoch 56/500\n",
            "8571/8571 [==============================] - 1s 111us/step - loss: 2.3813 - mean_absolute_error: 2.3813 - val_loss: 4.3814 - val_mean_absolute_error: 4.3814\n",
            "Epoch 57/500\n",
            "8571/8571 [==============================] - 1s 111us/step - loss: 2.3468 - mean_absolute_error: 2.3468 - val_loss: 4.3677 - val_mean_absolute_error: 4.3677\n",
            "Epoch 58/500\n",
            "8571/8571 [==============================] - 1s 111us/step - loss: 2.2485 - mean_absolute_error: 2.2485 - val_loss: 4.4340 - val_mean_absolute_error: 4.4340\n",
            "Epoch 59/500\n",
            "8571/8571 [==============================] - 1s 111us/step - loss: 2.2118 - mean_absolute_error: 2.2118 - val_loss: 4.3831 - val_mean_absolute_error: 4.3831\n",
            "Epoch 60/500\n",
            "8571/8571 [==============================] - 1s 110us/step - loss: 2.1212 - mean_absolute_error: 2.1212 - val_loss: 4.3092 - val_mean_absolute_error: 4.3092\n",
            "Epoch 61/500\n",
            "8571/8571 [==============================] - 1s 113us/step - loss: 2.1158 - mean_absolute_error: 2.1158 - val_loss: 4.3894 - val_mean_absolute_error: 4.3894\n",
            "Epoch 62/500\n",
            "8571/8571 [==============================] - 1s 114us/step - loss: 2.0795 - mean_absolute_error: 2.0795 - val_loss: 4.4670 - val_mean_absolute_error: 4.4670\n",
            "Epoch 63/500\n",
            "8571/8571 [==============================] - 1s 117us/step - loss: 2.0906 - mean_absolute_error: 2.0906 - val_loss: 4.5820 - val_mean_absolute_error: 4.5820\n",
            "Epoch 64/500\n",
            "8571/8571 [==============================] - 1s 114us/step - loss: 1.9821 - mean_absolute_error: 1.9821 - val_loss: 4.3693 - val_mean_absolute_error: 4.3693\n",
            "Epoch 65/500\n",
            "8571/8571 [==============================] - 1s 113us/step - loss: 1.9384 - mean_absolute_error: 1.9384 - val_loss: 4.4570 - val_mean_absolute_error: 4.4570\n",
            "Epoch 66/500\n",
            "8571/8571 [==============================] - 1s 110us/step - loss: 1.8585 - mean_absolute_error: 1.8585 - val_loss: 4.7901 - val_mean_absolute_error: 4.7901\n",
            "Epoch 67/500\n",
            "8571/8571 [==============================] - 1s 111us/step - loss: 1.8840 - mean_absolute_error: 1.8840 - val_loss: 4.5618 - val_mean_absolute_error: 4.5618\n",
            "Epoch 68/500\n",
            "8571/8571 [==============================] - 1s 114us/step - loss: 1.8150 - mean_absolute_error: 1.8150 - val_loss: 4.4909 - val_mean_absolute_error: 4.4909\n",
            "Epoch 69/500\n",
            "8571/8571 [==============================] - 1s 114us/step - loss: 1.7938 - mean_absolute_error: 1.7938 - val_loss: 4.2803 - val_mean_absolute_error: 4.2803\n",
            "Epoch 70/500\n",
            "8571/8571 [==============================] - 1s 111us/step - loss: 1.6971 - mean_absolute_error: 1.6971 - val_loss: 4.4303 - val_mean_absolute_error: 4.4303\n",
            "Epoch 71/500\n",
            "8571/8571 [==============================] - 1s 112us/step - loss: 1.6599 - mean_absolute_error: 1.6599 - val_loss: 4.3457 - val_mean_absolute_error: 4.3457\n",
            "Epoch 72/500\n",
            "8571/8571 [==============================] - 1s 111us/step - loss: 1.6625 - mean_absolute_error: 1.6625 - val_loss: 4.3473 - val_mean_absolute_error: 4.3473\n",
            "Epoch 73/500\n",
            "8571/8571 [==============================] - 1s 112us/step - loss: 1.5750 - mean_absolute_error: 1.5750 - val_loss: 4.3019 - val_mean_absolute_error: 4.3019\n",
            "Epoch 74/500\n",
            "8571/8571 [==============================] - 1s 111us/step - loss: 1.5756 - mean_absolute_error: 1.5756 - val_loss: 4.3240 - val_mean_absolute_error: 4.3240\n",
            "Epoch 75/500\n",
            "8571/8571 [==============================] - 1s 119us/step - loss: 1.5207 - mean_absolute_error: 1.5207 - val_loss: 4.1823 - val_mean_absolute_error: 4.1823\n",
            "Epoch 76/500\n",
            "8571/8571 [==============================] - 1s 115us/step - loss: 1.5127 - mean_absolute_error: 1.5127 - val_loss: 4.4116 - val_mean_absolute_error: 4.4116\n",
            "Epoch 77/500\n",
            "8571/8571 [==============================] - 1s 120us/step - loss: 1.4544 - mean_absolute_error: 1.4544 - val_loss: 4.4747 - val_mean_absolute_error: 4.4747\n",
            "Epoch 78/500\n",
            "8571/8571 [==============================] - 1s 111us/step - loss: 1.4712 - mean_absolute_error: 1.4712 - val_loss: 4.3123 - val_mean_absolute_error: 4.3123\n",
            "Epoch 79/500\n",
            "8571/8571 [==============================] - 1s 115us/step - loss: 1.4342 - mean_absolute_error: 1.4342 - val_loss: 4.3604 - val_mean_absolute_error: 4.3604\n",
            "Epoch 80/500\n",
            "8571/8571 [==============================] - 1s 113us/step - loss: 1.4663 - mean_absolute_error: 1.4663 - val_loss: 4.4391 - val_mean_absolute_error: 4.4391\n",
            "Epoch 81/500\n",
            "8571/8571 [==============================] - 1s 113us/step - loss: 1.3504 - mean_absolute_error: 1.3504 - val_loss: 4.1938 - val_mean_absolute_error: 4.1938\n",
            "Epoch 82/500\n",
            "8571/8571 [==============================] - 1s 112us/step - loss: 1.3874 - mean_absolute_error: 1.3874 - val_loss: 4.3357 - val_mean_absolute_error: 4.3357\n",
            "Epoch 83/500\n",
            "8571/8571 [==============================] - 1s 112us/step - loss: 1.3235 - mean_absolute_error: 1.3235 - val_loss: 4.2834 - val_mean_absolute_error: 4.2834\n",
            "Epoch 84/500\n",
            "8571/8571 [==============================] - 1s 113us/step - loss: 1.2810 - mean_absolute_error: 1.2810 - val_loss: 4.3172 - val_mean_absolute_error: 4.3172\n",
            "Epoch 85/500\n",
            "8571/8571 [==============================] - 1s 115us/step - loss: 1.2690 - mean_absolute_error: 1.2690 - val_loss: 4.4976 - val_mean_absolute_error: 4.4976\n",
            "Epoch 86/500\n",
            "8571/8571 [==============================] - 1s 116us/step - loss: 1.3422 - mean_absolute_error: 1.3422 - val_loss: 4.5309 - val_mean_absolute_error: 4.5309\n",
            "Epoch 87/500\n",
            "8571/8571 [==============================] - 1s 117us/step - loss: 1.2808 - mean_absolute_error: 1.2808 - val_loss: 4.3309 - val_mean_absolute_error: 4.3309\n",
            "Epoch 88/500\n",
            "8571/8571 [==============================] - 1s 111us/step - loss: 1.2376 - mean_absolute_error: 1.2376 - val_loss: 4.3209 - val_mean_absolute_error: 4.3209\n",
            "Epoch 89/500\n",
            "8571/8571 [==============================] - 1s 111us/step - loss: 1.2401 - mean_absolute_error: 1.2401 - val_loss: 4.6934 - val_mean_absolute_error: 4.6934\n",
            "Epoch 90/500\n",
            "8571/8571 [==============================] - 1s 110us/step - loss: 1.2576 - mean_absolute_error: 1.2576 - val_loss: 4.4542 - val_mean_absolute_error: 4.4542\n",
            "Epoch 91/500\n",
            "8571/8571 [==============================] - 1s 113us/step - loss: 1.2199 - mean_absolute_error: 1.2199 - val_loss: 4.3597 - val_mean_absolute_error: 4.3597\n",
            "Epoch 92/500\n",
            "8571/8571 [==============================] - 1s 116us/step - loss: 1.1663 - mean_absolute_error: 1.1663 - val_loss: 4.3211 - val_mean_absolute_error: 4.3211\n",
            "Epoch 93/500\n",
            "8571/8571 [==============================] - 1s 114us/step - loss: 1.1445 - mean_absolute_error: 1.1445 - val_loss: 4.5009 - val_mean_absolute_error: 4.5009\n",
            "Epoch 94/500\n",
            "8571/8571 [==============================] - 1s 117us/step - loss: 1.1580 - mean_absolute_error: 1.1580 - val_loss: 4.3538 - val_mean_absolute_error: 4.3538\n",
            "Epoch 95/500\n",
            "8571/8571 [==============================] - 1s 113us/step - loss: 1.1619 - mean_absolute_error: 1.1619 - val_loss: 4.5678 - val_mean_absolute_error: 4.5678\n",
            "Epoch 96/500\n",
            "8571/8571 [==============================] - 1s 113us/step - loss: 1.1734 - mean_absolute_error: 1.1734 - val_loss: 4.5486 - val_mean_absolute_error: 4.5486\n",
            "Epoch 97/500\n",
            "8571/8571 [==============================] - 1s 111us/step - loss: 1.1487 - mean_absolute_error: 1.1487 - val_loss: 4.3486 - val_mean_absolute_error: 4.3486\n",
            "Epoch 98/500\n",
            "8571/8571 [==============================] - 1s 112us/step - loss: 1.1123 - mean_absolute_error: 1.1123 - val_loss: 4.3663 - val_mean_absolute_error: 4.3663\n",
            "Epoch 99/500\n",
            "8571/8571 [==============================] - 1s 111us/step - loss: 1.1261 - mean_absolute_error: 1.1261 - val_loss: 4.8725 - val_mean_absolute_error: 4.8725\n",
            "Epoch 100/500\n",
            "8571/8571 [==============================] - 1s 116us/step - loss: 1.1134 - mean_absolute_error: 1.1134 - val_loss: 4.2318 - val_mean_absolute_error: 4.2318\n",
            "Epoch 101/500\n",
            "8571/8571 [==============================] - 1s 116us/step - loss: 1.0976 - mean_absolute_error: 1.0976 - val_loss: 4.6656 - val_mean_absolute_error: 4.6656\n",
            "Epoch 102/500\n",
            "8571/8571 [==============================] - 1s 114us/step - loss: 1.0717 - mean_absolute_error: 1.0717 - val_loss: 4.1859 - val_mean_absolute_error: 4.1859\n",
            "Epoch 103/500\n",
            "8571/8571 [==============================] - 1s 113us/step - loss: 1.0801 - mean_absolute_error: 1.0801 - val_loss: 4.1927 - val_mean_absolute_error: 4.1927\n",
            "Epoch 104/500\n",
            "8571/8571 [==============================] - 1s 117us/step - loss: 1.0806 - mean_absolute_error: 1.0806 - val_loss: 4.3182 - val_mean_absolute_error: 4.3182\n",
            "Epoch 105/500\n",
            "8571/8571 [==============================] - 1s 115us/step - loss: 1.0897 - mean_absolute_error: 1.0897 - val_loss: 4.2943 - val_mean_absolute_error: 4.2943\n",
            "Epoch 106/500\n",
            "8571/8571 [==============================] - 1s 114us/step - loss: 1.0323 - mean_absolute_error: 1.0323 - val_loss: 4.2999 - val_mean_absolute_error: 4.2999\n",
            "Epoch 107/500\n",
            "8571/8571 [==============================] - 1s 110us/step - loss: 1.0016 - mean_absolute_error: 1.0016 - val_loss: 4.3049 - val_mean_absolute_error: 4.3049\n",
            "Epoch 108/500\n",
            "8571/8571 [==============================] - 1s 110us/step - loss: 1.0219 - mean_absolute_error: 1.0219 - val_loss: 4.2179 - val_mean_absolute_error: 4.2179\n",
            "Epoch 109/500\n",
            "8571/8571 [==============================] - 1s 115us/step - loss: 1.0209 - mean_absolute_error: 1.0209 - val_loss: 4.2689 - val_mean_absolute_error: 4.2689\n",
            "Epoch 110/500\n",
            "8571/8571 [==============================] - 1s 118us/step - loss: 1.0086 - mean_absolute_error: 1.0086 - val_loss: 4.4098 - val_mean_absolute_error: 4.4098\n",
            "Epoch 111/500\n",
            "8571/8571 [==============================] - 1s 111us/step - loss: 1.0094 - mean_absolute_error: 1.0094 - val_loss: 4.1918 - val_mean_absolute_error: 4.1918\n",
            "Epoch 112/500\n",
            "8571/8571 [==============================] - 1s 110us/step - loss: 0.9904 - mean_absolute_error: 0.9904 - val_loss: 4.1024 - val_mean_absolute_error: 4.1024\n",
            "Epoch 113/500\n",
            "8571/8571 [==============================] - 1s 112us/step - loss: 0.9739 - mean_absolute_error: 0.9739 - val_loss: 4.2604 - val_mean_absolute_error: 4.2604\n",
            "Epoch 114/500\n",
            "8571/8571 [==============================] - 1s 112us/step - loss: 0.9920 - mean_absolute_error: 0.9920 - val_loss: 4.2188 - val_mean_absolute_error: 4.2188\n",
            "Epoch 115/500\n",
            "8571/8571 [==============================] - 1s 112us/step - loss: 0.9990 - mean_absolute_error: 0.9990 - val_loss: 4.1912 - val_mean_absolute_error: 4.1912\n",
            "Epoch 116/500\n",
            "8571/8571 [==============================] - 1s 110us/step - loss: 0.9845 - mean_absolute_error: 0.9845 - val_loss: 4.2797 - val_mean_absolute_error: 4.2797\n",
            "Epoch 117/500\n",
            "8571/8571 [==============================] - 1s 111us/step - loss: 0.9473 - mean_absolute_error: 0.9473 - val_loss: 4.1780 - val_mean_absolute_error: 4.1780\n",
            "Epoch 118/500\n",
            "8571/8571 [==============================] - 1s 116us/step - loss: 0.9685 - mean_absolute_error: 0.9685 - val_loss: 4.2441 - val_mean_absolute_error: 4.2441\n",
            "Epoch 119/500\n",
            "8571/8571 [==============================] - 1s 115us/step - loss: 0.9335 - mean_absolute_error: 0.9335 - val_loss: 4.2110 - val_mean_absolute_error: 4.2110\n",
            "Epoch 120/500\n",
            "8571/8571 [==============================] - 1s 112us/step - loss: 0.9412 - mean_absolute_error: 0.9412 - val_loss: 4.1754 - val_mean_absolute_error: 4.1754\n",
            "Epoch 121/500\n",
            "8571/8571 [==============================] - 1s 119us/step - loss: 0.9140 - mean_absolute_error: 0.9140 - val_loss: 4.1918 - val_mean_absolute_error: 4.1918\n",
            "Epoch 122/500\n",
            "8571/8571 [==============================] - 1s 112us/step - loss: 0.9364 - mean_absolute_error: 0.9364 - val_loss: 4.5397 - val_mean_absolute_error: 4.5397\n",
            "Epoch 123/500\n",
            "8571/8571 [==============================] - 1s 116us/step - loss: 0.9475 - mean_absolute_error: 0.9475 - val_loss: 4.1430 - val_mean_absolute_error: 4.1430\n",
            "Epoch 124/500\n",
            "8571/8571 [==============================] - 1s 119us/step - loss: 0.9056 - mean_absolute_error: 0.9056 - val_loss: 4.3865 - val_mean_absolute_error: 4.3865\n",
            "Epoch 125/500\n",
            "8571/8571 [==============================] - 1s 115us/step - loss: 0.8818 - mean_absolute_error: 0.8818 - val_loss: 4.3923 - val_mean_absolute_error: 4.3923\n",
            "Epoch 126/500\n",
            "8571/8571 [==============================] - 1s 112us/step - loss: 0.8938 - mean_absolute_error: 0.8938 - val_loss: 4.2205 - val_mean_absolute_error: 4.2205\n",
            "Epoch 127/500\n",
            "8571/8571 [==============================] - 1s 113us/step - loss: 0.8967 - mean_absolute_error: 0.8967 - val_loss: 4.2702 - val_mean_absolute_error: 4.2702\n",
            "Epoch 128/500\n",
            "8571/8571 [==============================] - 1s 121us/step - loss: 0.9007 - mean_absolute_error: 0.9007 - val_loss: 4.2764 - val_mean_absolute_error: 4.2764\n",
            "Epoch 129/500\n",
            "8571/8571 [==============================] - 1s 115us/step - loss: 0.8820 - mean_absolute_error: 0.8820 - val_loss: 4.2489 - val_mean_absolute_error: 4.2489\n",
            "Epoch 130/500\n",
            "8571/8571 [==============================] - 1s 110us/step - loss: 0.8882 - mean_absolute_error: 0.8882 - val_loss: 4.2380 - val_mean_absolute_error: 4.2380\n",
            "Epoch 131/500\n",
            "8571/8571 [==============================] - 1s 118us/step - loss: 0.8549 - mean_absolute_error: 0.8549 - val_loss: 4.2559 - val_mean_absolute_error: 4.2559\n",
            "Epoch 132/500\n",
            "8571/8571 [==============================] - 1s 113us/step - loss: 0.8542 - mean_absolute_error: 0.8542 - val_loss: 4.2192 - val_mean_absolute_error: 4.2192\n",
            "Epoch 133/500\n",
            "8571/8571 [==============================] - 1s 112us/step - loss: 0.8622 - mean_absolute_error: 0.8622 - val_loss: 4.2241 - val_mean_absolute_error: 4.2241\n",
            "Epoch 134/500\n",
            "8571/8571 [==============================] - 1s 118us/step - loss: 0.8490 - mean_absolute_error: 0.8490 - val_loss: 4.3045 - val_mean_absolute_error: 4.3045\n",
            "Epoch 135/500\n",
            "8571/8571 [==============================] - 1s 114us/step - loss: 0.8765 - mean_absolute_error: 0.8765 - val_loss: 4.2449 - val_mean_absolute_error: 4.2449\n",
            "Epoch 136/500\n",
            "8571/8571 [==============================] - 1s 112us/step - loss: 0.8490 - mean_absolute_error: 0.8490 - val_loss: 4.5119 - val_mean_absolute_error: 4.5119\n",
            "Epoch 137/500\n",
            "8571/8571 [==============================] - 1s 113us/step - loss: 0.8465 - mean_absolute_error: 0.8465 - val_loss: 4.3554 - val_mean_absolute_error: 4.3554\n",
            "Epoch 138/500\n",
            "8571/8571 [==============================] - 1s 118us/step - loss: 0.8133 - mean_absolute_error: 0.8133 - val_loss: 4.1972 - val_mean_absolute_error: 4.1972\n",
            "Epoch 139/500\n",
            "8571/8571 [==============================] - 1s 117us/step - loss: 0.8544 - mean_absolute_error: 0.8544 - val_loss: 4.1635 - val_mean_absolute_error: 4.1635\n",
            "Epoch 140/500\n",
            "8571/8571 [==============================] - 1s 112us/step - loss: 0.8249 - mean_absolute_error: 0.8249 - val_loss: 4.1320 - val_mean_absolute_error: 4.1320\n",
            "Epoch 141/500\n",
            "8571/8571 [==============================] - 1s 114us/step - loss: 0.8122 - mean_absolute_error: 0.8122 - val_loss: 4.1607 - val_mean_absolute_error: 4.1607\n",
            "Epoch 142/500\n",
            "8571/8571 [==============================] - 1s 113us/step - loss: 0.7993 - mean_absolute_error: 0.7993 - val_loss: 4.4083 - val_mean_absolute_error: 4.4083\n",
            "Epoch 143/500\n",
            "8571/8571 [==============================] - 1s 111us/step - loss: 0.8194 - mean_absolute_error: 0.8194 - val_loss: 4.1973 - val_mean_absolute_error: 4.1973\n",
            "Epoch 144/500\n",
            "8571/8571 [==============================] - 1s 112us/step - loss: 0.7965 - mean_absolute_error: 0.7965 - val_loss: 4.2340 - val_mean_absolute_error: 4.2340\n",
            "Epoch 145/500\n",
            "8571/8571 [==============================] - 1s 114us/step - loss: 0.7912 - mean_absolute_error: 0.7912 - val_loss: 4.1737 - val_mean_absolute_error: 4.1737\n",
            "Epoch 146/500\n",
            "8571/8571 [==============================] - 1s 120us/step - loss: 0.8299 - mean_absolute_error: 0.8299 - val_loss: 4.1274 - val_mean_absolute_error: 4.1274\n",
            "Epoch 147/500\n",
            "8571/8571 [==============================] - 1s 113us/step - loss: 0.7919 - mean_absolute_error: 0.7919 - val_loss: 4.2205 - val_mean_absolute_error: 4.2205\n",
            "Epoch 148/500\n",
            "8571/8571 [==============================] - 1s 114us/step - loss: 0.7863 - mean_absolute_error: 0.7863 - val_loss: 4.1720 - val_mean_absolute_error: 4.1720\n",
            "Epoch 149/500\n",
            "8571/8571 [==============================] - 1s 115us/step - loss: 0.7872 - mean_absolute_error: 0.7872 - val_loss: 4.2339 - val_mean_absolute_error: 4.2339\n",
            "Epoch 150/500\n",
            "8571/8571 [==============================] - 1s 118us/step - loss: 0.7948 - mean_absolute_error: 0.7948 - val_loss: 4.1653 - val_mean_absolute_error: 4.1653\n",
            "Epoch 151/500\n",
            "8571/8571 [==============================] - 1s 114us/step - loss: 0.8040 - mean_absolute_error: 0.8040 - val_loss: 4.2249 - val_mean_absolute_error: 4.2249\n",
            "Epoch 152/500\n",
            "8571/8571 [==============================] - 1s 114us/step - loss: 0.7832 - mean_absolute_error: 0.7832 - val_loss: 4.1713 - val_mean_absolute_error: 4.1713\n",
            "Epoch 153/500\n",
            "8571/8571 [==============================] - 1s 111us/step - loss: 0.7853 - mean_absolute_error: 0.7853 - val_loss: 4.2276 - val_mean_absolute_error: 4.2276\n",
            "Epoch 154/500\n",
            "8571/8571 [==============================] - 1s 113us/step - loss: 0.7540 - mean_absolute_error: 0.7540 - val_loss: 4.1504 - val_mean_absolute_error: 4.1504\n",
            "Epoch 155/500\n",
            "8571/8571 [==============================] - 1s 113us/step - loss: 0.8006 - mean_absolute_error: 0.8006 - val_loss: 4.1629 - val_mean_absolute_error: 4.1629\n",
            "Epoch 156/500\n",
            "8571/8571 [==============================] - 1s 115us/step - loss: 0.7808 - mean_absolute_error: 0.7808 - val_loss: 4.2198 - val_mean_absolute_error: 4.2198\n",
            "Epoch 157/500\n",
            "8571/8571 [==============================] - 1s 114us/step - loss: 0.7720 - mean_absolute_error: 0.7720 - val_loss: 4.2127 - val_mean_absolute_error: 4.2127\n",
            "Epoch 158/500\n",
            "8571/8571 [==============================] - 1s 113us/step - loss: 0.7557 - mean_absolute_error: 0.7557 - val_loss: 4.1521 - val_mean_absolute_error: 4.1521\n",
            "Epoch 159/500\n",
            "8571/8571 [==============================] - 1s 113us/step - loss: 0.8020 - mean_absolute_error: 0.8020 - val_loss: 4.1157 - val_mean_absolute_error: 4.1157\n",
            "Epoch 160/500\n",
            "8571/8571 [==============================] - 1s 111us/step - loss: 0.7581 - mean_absolute_error: 0.7581 - val_loss: 4.1917 - val_mean_absolute_error: 4.1917\n",
            "Epoch 161/500\n",
            "8571/8571 [==============================] - 1s 111us/step - loss: 0.7448 - mean_absolute_error: 0.7448 - val_loss: 4.1486 - val_mean_absolute_error: 4.1486\n",
            "Epoch 162/500\n",
            "8571/8571 [==============================] - 1s 113us/step - loss: 0.7587 - mean_absolute_error: 0.7587 - val_loss: 4.1422 - val_mean_absolute_error: 4.1422\n",
            "Epoch 163/500\n",
            "8571/8571 [==============================] - 1s 113us/step - loss: 0.7309 - mean_absolute_error: 0.7309 - val_loss: 4.1245 - val_mean_absolute_error: 4.1245\n",
            "Epoch 164/500\n",
            "8571/8571 [==============================] - 1s 113us/step - loss: 0.7350 - mean_absolute_error: 0.7350 - val_loss: 4.1867 - val_mean_absolute_error: 4.1867\n",
            "Epoch 165/500\n",
            "8571/8571 [==============================] - 1s 114us/step - loss: 0.7514 - mean_absolute_error: 0.7514 - val_loss: 4.1226 - val_mean_absolute_error: 4.1226\n",
            "Epoch 166/500\n",
            "8571/8571 [==============================] - 1s 115us/step - loss: 0.7331 - mean_absolute_error: 0.7331 - val_loss: 4.0817 - val_mean_absolute_error: 4.0817\n",
            "Epoch 167/500\n",
            "8571/8571 [==============================] - 1s 114us/step - loss: 0.7443 - mean_absolute_error: 0.7443 - val_loss: 4.3895 - val_mean_absolute_error: 4.3895\n",
            "Epoch 168/500\n",
            "8571/8571 [==============================] - 1s 120us/step - loss: 0.7283 - mean_absolute_error: 0.7283 - val_loss: 4.2672 - val_mean_absolute_error: 4.2672\n",
            "Epoch 169/500\n",
            "8571/8571 [==============================] - 1s 118us/step - loss: 0.7049 - mean_absolute_error: 0.7049 - val_loss: 4.1114 - val_mean_absolute_error: 4.1114\n",
            "Epoch 170/500\n",
            "8571/8571 [==============================] - 1s 111us/step - loss: 0.7176 - mean_absolute_error: 0.7176 - val_loss: 4.1478 - val_mean_absolute_error: 4.1478\n",
            "Epoch 171/500\n",
            "8571/8571 [==============================] - 1s 109us/step - loss: 0.7429 - mean_absolute_error: 0.7429 - val_loss: 4.1919 - val_mean_absolute_error: 4.1919\n",
            "Epoch 172/500\n",
            "8571/8571 [==============================] - 1s 117us/step - loss: 0.7455 - mean_absolute_error: 0.7455 - val_loss: 4.1518 - val_mean_absolute_error: 4.1518\n",
            "Epoch 173/500\n",
            "8571/8571 [==============================] - 1s 116us/step - loss: 0.7244 - mean_absolute_error: 0.7244 - val_loss: 4.1090 - val_mean_absolute_error: 4.1090\n",
            "Epoch 174/500\n",
            "8571/8571 [==============================] - 1s 111us/step - loss: 0.7207 - mean_absolute_error: 0.7207 - val_loss: 4.0610 - val_mean_absolute_error: 4.0610\n",
            "Epoch 175/500\n",
            "8571/8571 [==============================] - 1s 113us/step - loss: 0.7142 - mean_absolute_error: 0.7142 - val_loss: 4.1567 - val_mean_absolute_error: 4.1567\n",
            "Epoch 176/500\n",
            "8571/8571 [==============================] - 1s 119us/step - loss: 0.7147 - mean_absolute_error: 0.7147 - val_loss: 4.1246 - val_mean_absolute_error: 4.1246\n",
            "Epoch 177/500\n",
            "8571/8571 [==============================] - 1s 116us/step - loss: 0.7018 - mean_absolute_error: 0.7018 - val_loss: 4.1988 - val_mean_absolute_error: 4.1988\n",
            "Epoch 178/500\n",
            "8571/8571 [==============================] - 1s 111us/step - loss: 0.7217 - mean_absolute_error: 0.7217 - val_loss: 4.1308 - val_mean_absolute_error: 4.1308\n",
            "Epoch 179/500\n",
            "8571/8571 [==============================] - 1s 117us/step - loss: 0.6673 - mean_absolute_error: 0.6673 - val_loss: 4.0663 - val_mean_absolute_error: 4.0663\n",
            "Epoch 180/500\n",
            "8571/8571 [==============================] - 1s 111us/step - loss: 0.6942 - mean_absolute_error: 0.6942 - val_loss: 4.1031 - val_mean_absolute_error: 4.1031\n",
            "Epoch 181/500\n",
            "8571/8571 [==============================] - 1s 111us/step - loss: 0.6562 - mean_absolute_error: 0.6562 - val_loss: 4.1311 - val_mean_absolute_error: 4.1311\n",
            "Epoch 182/500\n",
            "8571/8571 [==============================] - 1s 110us/step - loss: 0.7154 - mean_absolute_error: 0.7154 - val_loss: 4.1310 - val_mean_absolute_error: 4.1310\n",
            "Epoch 183/500\n",
            "8571/8571 [==============================] - 1s 111us/step - loss: 0.7020 - mean_absolute_error: 0.7020 - val_loss: 4.1042 - val_mean_absolute_error: 4.1042\n",
            "Epoch 184/500\n",
            "8571/8571 [==============================] - 1s 112us/step - loss: 0.7222 - mean_absolute_error: 0.7222 - val_loss: 4.0894 - val_mean_absolute_error: 4.0894\n",
            "Epoch 185/500\n",
            "8571/8571 [==============================] - 1s 113us/step - loss: 0.6799 - mean_absolute_error: 0.6799 - val_loss: 4.1310 - val_mean_absolute_error: 4.1310\n",
            "Epoch 186/500\n",
            "8571/8571 [==============================] - 1s 117us/step - loss: 0.6670 - mean_absolute_error: 0.6670 - val_loss: 4.2544 - val_mean_absolute_error: 4.2544\n",
            "Epoch 187/500\n",
            "8571/8571 [==============================] - 1s 114us/step - loss: 0.6846 - mean_absolute_error: 0.6846 - val_loss: 4.1287 - val_mean_absolute_error: 4.1287\n",
            "Epoch 188/500\n",
            "8571/8571 [==============================] - 1s 114us/step - loss: 0.6600 - mean_absolute_error: 0.6600 - val_loss: 4.1108 - val_mean_absolute_error: 4.1108\n",
            "Epoch 189/500\n",
            "8571/8571 [==============================] - 1s 115us/step - loss: 0.6825 - mean_absolute_error: 0.6825 - val_loss: 4.0691 - val_mean_absolute_error: 4.0691\n",
            "Epoch 190/500\n",
            "8571/8571 [==============================] - 1s 112us/step - loss: 0.6809 - mean_absolute_error: 0.6809 - val_loss: 4.1127 - val_mean_absolute_error: 4.1127\n",
            "Epoch 191/500\n",
            "8571/8571 [==============================] - 1s 113us/step - loss: 0.6581 - mean_absolute_error: 0.6581 - val_loss: 4.1207 - val_mean_absolute_error: 4.1207\n",
            "Epoch 192/500\n",
            "8571/8571 [==============================] - 1s 114us/step - loss: 0.6659 - mean_absolute_error: 0.6659 - val_loss: 4.0583 - val_mean_absolute_error: 4.0583\n",
            "Epoch 193/500\n",
            "8571/8571 [==============================] - 1s 111us/step - loss: 0.6698 - mean_absolute_error: 0.6698 - val_loss: 4.1121 - val_mean_absolute_error: 4.1121\n",
            "Epoch 194/500\n",
            "8571/8571 [==============================] - 1s 111us/step - loss: 0.7064 - mean_absolute_error: 0.7064 - val_loss: 4.1969 - val_mean_absolute_error: 4.1969\n",
            "Epoch 195/500\n",
            "8571/8571 [==============================] - 1s 111us/step - loss: 0.6709 - mean_absolute_error: 0.6709 - val_loss: 4.0448 - val_mean_absolute_error: 4.0448\n",
            "Epoch 196/500\n",
            "8571/8571 [==============================] - 1s 114us/step - loss: 0.6538 - mean_absolute_error: 0.6538 - val_loss: 4.1028 - val_mean_absolute_error: 4.1028\n",
            "Epoch 197/500\n",
            "8571/8571 [==============================] - 1s 111us/step - loss: 0.6566 - mean_absolute_error: 0.6566 - val_loss: 4.0360 - val_mean_absolute_error: 4.0360\n",
            "Epoch 198/500\n",
            "8571/8571 [==============================] - 1s 112us/step - loss: 0.6400 - mean_absolute_error: 0.6400 - val_loss: 4.1539 - val_mean_absolute_error: 4.1539\n",
            "Epoch 199/500\n",
            "8571/8571 [==============================] - 1s 118us/step - loss: 0.6560 - mean_absolute_error: 0.6560 - val_loss: 4.1428 - val_mean_absolute_error: 4.1428\n",
            "Epoch 200/500\n",
            "8571/8571 [==============================] - 1s 117us/step - loss: 0.6628 - mean_absolute_error: 0.6628 - val_loss: 4.2026 - val_mean_absolute_error: 4.2026\n",
            "Epoch 201/500\n",
            "8571/8571 [==============================] - 1s 119us/step - loss: 0.6805 - mean_absolute_error: 0.6805 - val_loss: 4.1865 - val_mean_absolute_error: 4.1865\n",
            "Epoch 202/500\n",
            "8571/8571 [==============================] - 1s 113us/step - loss: 0.6296 - mean_absolute_error: 0.6296 - val_loss: 4.0812 - val_mean_absolute_error: 4.0812\n",
            "Epoch 203/500\n",
            "8571/8571 [==============================] - 1s 114us/step - loss: 0.6975 - mean_absolute_error: 0.6975 - val_loss: 4.0567 - val_mean_absolute_error: 4.0567\n",
            "Epoch 204/500\n",
            "8571/8571 [==============================] - 1s 116us/step - loss: 0.6477 - mean_absolute_error: 0.6477 - val_loss: 4.1317 - val_mean_absolute_error: 4.1317\n",
            "Epoch 205/500\n",
            "8571/8571 [==============================] - 1s 114us/step - loss: 0.6611 - mean_absolute_error: 0.6611 - val_loss: 4.0592 - val_mean_absolute_error: 4.0592\n",
            "Epoch 206/500\n",
            "8571/8571 [==============================] - 1s 110us/step - loss: 0.6524 - mean_absolute_error: 0.6524 - val_loss: 4.2147 - val_mean_absolute_error: 4.2147\n",
            "Epoch 207/500\n",
            "8571/8571 [==============================] - 1s 118us/step - loss: 0.6293 - mean_absolute_error: 0.6293 - val_loss: 4.0229 - val_mean_absolute_error: 4.0229\n",
            "Epoch 208/500\n",
            "8571/8571 [==============================] - 1s 117us/step - loss: 0.6201 - mean_absolute_error: 0.6201 - val_loss: 4.0837 - val_mean_absolute_error: 4.0837\n",
            "Epoch 209/500\n",
            "8571/8571 [==============================] - 1s 113us/step - loss: 0.6409 - mean_absolute_error: 0.6409 - val_loss: 4.1087 - val_mean_absolute_error: 4.1087\n",
            "Epoch 210/500\n",
            "8571/8571 [==============================] - 1s 119us/step - loss: 0.6461 - mean_absolute_error: 0.6461 - val_loss: 4.0787 - val_mean_absolute_error: 4.0787\n",
            "Epoch 211/500\n",
            "8571/8571 [==============================] - 1s 111us/step - loss: 0.6192 - mean_absolute_error: 0.6192 - val_loss: 4.0762 - val_mean_absolute_error: 4.0762\n",
            "Epoch 212/500\n",
            "8571/8571 [==============================] - 1s 115us/step - loss: 0.6039 - mean_absolute_error: 0.6039 - val_loss: 4.1034 - val_mean_absolute_error: 4.1034\n",
            "Epoch 213/500\n",
            "8571/8571 [==============================] - 1s 110us/step - loss: 0.6537 - mean_absolute_error: 0.6537 - val_loss: 4.1016 - val_mean_absolute_error: 4.1016\n",
            "Epoch 214/500\n",
            "8571/8571 [==============================] - 1s 116us/step - loss: 0.6025 - mean_absolute_error: 0.6025 - val_loss: 4.2303 - val_mean_absolute_error: 4.2303\n",
            "Epoch 215/500\n",
            "8571/8571 [==============================] - 1s 111us/step - loss: 0.6455 - mean_absolute_error: 0.6455 - val_loss: 4.0935 - val_mean_absolute_error: 4.0935\n",
            "Epoch 216/500\n",
            "8571/8571 [==============================] - 1s 111us/step - loss: 0.6395 - mean_absolute_error: 0.6395 - val_loss: 4.0446 - val_mean_absolute_error: 4.0446\n",
            "Epoch 217/500\n",
            "8571/8571 [==============================] - 1s 113us/step - loss: 0.6342 - mean_absolute_error: 0.6342 - val_loss: 4.1056 - val_mean_absolute_error: 4.1056\n",
            "Epoch 218/500\n",
            "8571/8571 [==============================] - 1s 112us/step - loss: 0.6121 - mean_absolute_error: 0.6121 - val_loss: 4.1418 - val_mean_absolute_error: 4.1418\n",
            "Epoch 219/500\n",
            "8571/8571 [==============================] - 1s 118us/step - loss: 0.6255 - mean_absolute_error: 0.6255 - val_loss: 4.1158 - val_mean_absolute_error: 4.1158\n",
            "Epoch 220/500\n",
            "8571/8571 [==============================] - 1s 110us/step - loss: 0.6357 - mean_absolute_error: 0.6357 - val_loss: 4.0661 - val_mean_absolute_error: 4.0661\n",
            "Epoch 221/500\n",
            "8571/8571 [==============================] - 1s 112us/step - loss: 0.6040 - mean_absolute_error: 0.6040 - val_loss: 4.0521 - val_mean_absolute_error: 4.0521\n",
            "Epoch 222/500\n",
            "8571/8571 [==============================] - 1s 111us/step - loss: 0.6370 - mean_absolute_error: 0.6370 - val_loss: 4.1944 - val_mean_absolute_error: 4.1944\n",
            "Epoch 223/500\n",
            "8571/8571 [==============================] - 1s 110us/step - loss: 0.6283 - mean_absolute_error: 0.6283 - val_loss: 4.0654 - val_mean_absolute_error: 4.0654\n",
            "Epoch 224/500\n",
            "8571/8571 [==============================] - 1s 117us/step - loss: 0.6197 - mean_absolute_error: 0.6197 - val_loss: 4.0630 - val_mean_absolute_error: 4.0630\n",
            "Epoch 225/500\n",
            "8571/8571 [==============================] - 1s 115us/step - loss: 0.6112 - mean_absolute_error: 0.6112 - val_loss: 4.2176 - val_mean_absolute_error: 4.2176\n",
            "Epoch 226/500\n",
            "8571/8571 [==============================] - 1s 117us/step - loss: 0.6447 - mean_absolute_error: 0.6447 - val_loss: 4.1192 - val_mean_absolute_error: 4.1192\n",
            "Epoch 227/500\n",
            "8571/8571 [==============================] - 1s 119us/step - loss: 0.6204 - mean_absolute_error: 0.6204 - val_loss: 4.0480 - val_mean_absolute_error: 4.0480\n",
            "Epoch 228/500\n",
            "8571/8571 [==============================] - 1s 119us/step - loss: 0.5721 - mean_absolute_error: 0.5721 - val_loss: 4.2109 - val_mean_absolute_error: 4.2109\n",
            "Epoch 229/500\n",
            "8571/8571 [==============================] - 1s 121us/step - loss: 0.6143 - mean_absolute_error: 0.6143 - val_loss: 4.0476 - val_mean_absolute_error: 4.0476\n",
            "Epoch 230/500\n",
            "8571/8571 [==============================] - 1s 115us/step - loss: 0.5888 - mean_absolute_error: 0.5888 - val_loss: 4.1159 - val_mean_absolute_error: 4.1159\n",
            "Epoch 231/500\n",
            "8571/8571 [==============================] - 1s 118us/step - loss: 0.5940 - mean_absolute_error: 0.5940 - val_loss: 4.1243 - val_mean_absolute_error: 4.1243\n",
            "Epoch 232/500\n",
            "8571/8571 [==============================] - 1s 114us/step - loss: 0.6048 - mean_absolute_error: 0.6048 - val_loss: 4.1825 - val_mean_absolute_error: 4.1825\n",
            "Epoch 233/500\n",
            "8571/8571 [==============================] - 1s 113us/step - loss: 0.5897 - mean_absolute_error: 0.5897 - val_loss: 4.1355 - val_mean_absolute_error: 4.1355\n",
            "Epoch 234/500\n",
            "8571/8571 [==============================] - 1s 115us/step - loss: 0.5939 - mean_absolute_error: 0.5939 - val_loss: 4.1843 - val_mean_absolute_error: 4.1843\n",
            "Epoch 235/500\n",
            "8571/8571 [==============================] - 1s 122us/step - loss: 0.6139 - mean_absolute_error: 0.6139 - val_loss: 4.1014 - val_mean_absolute_error: 4.1014\n",
            "Epoch 236/500\n",
            "8571/8571 [==============================] - 1s 116us/step - loss: 0.6056 - mean_absolute_error: 0.6056 - val_loss: 4.1650 - val_mean_absolute_error: 4.1650\n",
            "Epoch 237/500\n",
            "8571/8571 [==============================] - 1s 119us/step - loss: 0.6059 - mean_absolute_error: 0.6059 - val_loss: 4.0497 - val_mean_absolute_error: 4.0497\n",
            "Epoch 238/500\n",
            "8571/8571 [==============================] - 1s 111us/step - loss: 0.6356 - mean_absolute_error: 0.6356 - val_loss: 4.2645 - val_mean_absolute_error: 4.2645\n",
            "Epoch 239/500\n",
            "8571/8571 [==============================] - 1s 112us/step - loss: 0.5779 - mean_absolute_error: 0.5779 - val_loss: 4.0365 - val_mean_absolute_error: 4.0365\n",
            "Epoch 240/500\n",
            "8571/8571 [==============================] - 1s 116us/step - loss: 0.5799 - mean_absolute_error: 0.5799 - val_loss: 4.0979 - val_mean_absolute_error: 4.0979\n",
            "Epoch 241/500\n",
            "8571/8571 [==============================] - 1s 114us/step - loss: 0.5746 - mean_absolute_error: 0.5746 - val_loss: 4.0726 - val_mean_absolute_error: 4.0726\n",
            "Epoch 242/500\n",
            "8571/8571 [==============================] - 1s 117us/step - loss: 0.5902 - mean_absolute_error: 0.5902 - val_loss: 4.3123 - val_mean_absolute_error: 4.3123\n",
            "Epoch 243/500\n",
            "8571/8571 [==============================] - 1s 117us/step - loss: 0.5683 - mean_absolute_error: 0.5683 - val_loss: 4.0624 - val_mean_absolute_error: 4.0624\n",
            "Epoch 244/500\n",
            "8571/8571 [==============================] - 1s 113us/step - loss: 0.5722 - mean_absolute_error: 0.5722 - val_loss: 4.0768 - val_mean_absolute_error: 4.0768\n",
            "Epoch 245/500\n",
            "8571/8571 [==============================] - 1s 119us/step - loss: 0.5821 - mean_absolute_error: 0.5821 - val_loss: 4.0333 - val_mean_absolute_error: 4.0333\n",
            "Epoch 246/500\n",
            "8571/8571 [==============================] - 1s 119us/step - loss: 0.5892 - mean_absolute_error: 0.5892 - val_loss: 4.0908 - val_mean_absolute_error: 4.0908\n",
            "Epoch 247/500\n",
            "8571/8571 [==============================] - 1s 118us/step - loss: 0.5772 - mean_absolute_error: 0.5772 - val_loss: 4.0156 - val_mean_absolute_error: 4.0156\n",
            "Epoch 248/500\n",
            "8571/8571 [==============================] - 1s 114us/step - loss: 0.5896 - mean_absolute_error: 0.5896 - val_loss: 4.1260 - val_mean_absolute_error: 4.1260\n",
            "Epoch 249/500\n",
            "8571/8571 [==============================] - 1s 114us/step - loss: 0.5878 - mean_absolute_error: 0.5878 - val_loss: 4.0807 - val_mean_absolute_error: 4.0807\n",
            "Epoch 250/500\n",
            "8571/8571 [==============================] - 1s 114us/step - loss: 0.5796 - mean_absolute_error: 0.5796 - val_loss: 4.1060 - val_mean_absolute_error: 4.1060\n",
            "Epoch 251/500\n",
            "8571/8571 [==============================] - 1s 112us/step - loss: 0.5585 - mean_absolute_error: 0.5585 - val_loss: 4.1303 - val_mean_absolute_error: 4.1303\n",
            "Epoch 252/500\n",
            "8571/8571 [==============================] - 1s 115us/step - loss: 0.5813 - mean_absolute_error: 0.5813 - val_loss: 4.1894 - val_mean_absolute_error: 4.1894\n",
            "Epoch 253/500\n",
            "8571/8571 [==============================] - 1s 115us/step - loss: 0.5708 - mean_absolute_error: 0.5708 - val_loss: 4.0577 - val_mean_absolute_error: 4.0577\n",
            "Epoch 254/500\n",
            "8571/8571 [==============================] - 1s 120us/step - loss: 0.5741 - mean_absolute_error: 0.5741 - val_loss: 4.0414 - val_mean_absolute_error: 4.0414\n",
            "Epoch 255/500\n",
            "8571/8571 [==============================] - 1s 115us/step - loss: 0.5564 - mean_absolute_error: 0.5564 - val_loss: 4.0776 - val_mean_absolute_error: 4.0776\n",
            "Epoch 256/500\n",
            "8571/8571 [==============================] - 1s 115us/step - loss: 0.5796 - mean_absolute_error: 0.5796 - val_loss: 4.3612 - val_mean_absolute_error: 4.3612\n",
            "Epoch 257/500\n",
            "8571/8571 [==============================] - 1s 115us/step - loss: 0.5659 - mean_absolute_error: 0.5659 - val_loss: 4.0284 - val_mean_absolute_error: 4.0284\n",
            "Epoch 258/500\n",
            "8571/8571 [==============================] - 1s 118us/step - loss: 0.5515 - mean_absolute_error: 0.5515 - val_loss: 4.0622 - val_mean_absolute_error: 4.0622\n",
            "Epoch 259/500\n",
            "8571/8571 [==============================] - 1s 116us/step - loss: 0.5715 - mean_absolute_error: 0.5715 - val_loss: 4.1458 - val_mean_absolute_error: 4.1458\n",
            "Epoch 260/500\n",
            "8571/8571 [==============================] - 1s 121us/step - loss: 0.5849 - mean_absolute_error: 0.5849 - val_loss: 4.0028 - val_mean_absolute_error: 4.0028\n",
            "Epoch 261/500\n",
            "8571/8571 [==============================] - 1s 123us/step - loss: 0.5605 - mean_absolute_error: 0.5605 - val_loss: 4.1441 - val_mean_absolute_error: 4.1441\n",
            "Epoch 262/500\n",
            "8571/8571 [==============================] - 1s 116us/step - loss: 0.5716 - mean_absolute_error: 0.5716 - val_loss: 4.0861 - val_mean_absolute_error: 4.0861\n",
            "Epoch 263/500\n",
            "8571/8571 [==============================] - 1s 115us/step - loss: 0.5537 - mean_absolute_error: 0.5537 - val_loss: 4.0063 - val_mean_absolute_error: 4.0063\n",
            "Epoch 264/500\n",
            "8571/8571 [==============================] - 1s 117us/step - loss: 0.6002 - mean_absolute_error: 0.6002 - val_loss: 4.0272 - val_mean_absolute_error: 4.0272\n",
            "Epoch 265/500\n",
            "8571/8571 [==============================] - 1s 112us/step - loss: 0.5614 - mean_absolute_error: 0.5614 - val_loss: 4.1393 - val_mean_absolute_error: 4.1393\n",
            "Epoch 266/500\n",
            "8571/8571 [==============================] - 1s 112us/step - loss: 0.5231 - mean_absolute_error: 0.5231 - val_loss: 4.1162 - val_mean_absolute_error: 4.1162\n",
            "Epoch 267/500\n",
            "8571/8571 [==============================] - 1s 117us/step - loss: 0.5499 - mean_absolute_error: 0.5499 - val_loss: 4.1283 - val_mean_absolute_error: 4.1283\n",
            "Epoch 268/500\n",
            "8571/8571 [==============================] - 1s 113us/step - loss: 0.5360 - mean_absolute_error: 0.5360 - val_loss: 4.1597 - val_mean_absolute_error: 4.1597\n",
            "Epoch 269/500\n",
            "8571/8571 [==============================] - 1s 114us/step - loss: 0.5523 - mean_absolute_error: 0.5523 - val_loss: 4.0653 - val_mean_absolute_error: 4.0653\n",
            "Epoch 270/500\n",
            "8571/8571 [==============================] - 1s 114us/step - loss: 0.5252 - mean_absolute_error: 0.5252 - val_loss: 4.2150 - val_mean_absolute_error: 4.2150\n",
            "Epoch 271/500\n",
            "8571/8571 [==============================] - 1s 121us/step - loss: 0.5677 - mean_absolute_error: 0.5677 - val_loss: 4.0570 - val_mean_absolute_error: 4.0570\n",
            "Epoch 272/500\n",
            "8571/8571 [==============================] - 1s 114us/step - loss: 0.5605 - mean_absolute_error: 0.5605 - val_loss: 4.0600 - val_mean_absolute_error: 4.0600\n",
            "Epoch 273/500\n",
            "8571/8571 [==============================] - 1s 116us/step - loss: 0.5613 - mean_absolute_error: 0.5613 - val_loss: 4.1354 - val_mean_absolute_error: 4.1354\n",
            "Epoch 274/500\n",
            "8571/8571 [==============================] - 1s 115us/step - loss: 0.5554 - mean_absolute_error: 0.5554 - val_loss: 4.2081 - val_mean_absolute_error: 4.2081\n",
            "Epoch 275/500\n",
            "8571/8571 [==============================] - 1s 114us/step - loss: 0.5568 - mean_absolute_error: 0.5568 - val_loss: 4.0670 - val_mean_absolute_error: 4.0670\n",
            "Epoch 276/500\n",
            "8571/8571 [==============================] - 1s 113us/step - loss: 0.5446 - mean_absolute_error: 0.5446 - val_loss: 4.0696 - val_mean_absolute_error: 4.0696\n",
            "Epoch 277/500\n",
            "8571/8571 [==============================] - 1s 114us/step - loss: 0.5276 - mean_absolute_error: 0.5276 - val_loss: 4.0499 - val_mean_absolute_error: 4.0499\n",
            "Epoch 278/500\n",
            "8571/8571 [==============================] - 1s 114us/step - loss: 0.5595 - mean_absolute_error: 0.5595 - val_loss: 4.0468 - val_mean_absolute_error: 4.0468\n",
            "Epoch 279/500\n",
            "8571/8571 [==============================] - 1s 115us/step - loss: 0.5473 - mean_absolute_error: 0.5473 - val_loss: 4.0163 - val_mean_absolute_error: 4.0163\n",
            "Epoch 280/500\n",
            "8571/8571 [==============================] - 1s 119us/step - loss: 0.5333 - mean_absolute_error: 0.5333 - val_loss: 3.9876 - val_mean_absolute_error: 3.9876\n",
            "Epoch 281/500\n",
            "8571/8571 [==============================] - 1s 114us/step - loss: 0.5354 - mean_absolute_error: 0.5354 - val_loss: 4.0695 - val_mean_absolute_error: 4.0695\n",
            "Epoch 282/500\n",
            "8571/8571 [==============================] - 1s 114us/step - loss: 0.5359 - mean_absolute_error: 0.5359 - val_loss: 4.0074 - val_mean_absolute_error: 4.0074\n",
            "Epoch 283/500\n",
            "8571/8571 [==============================] - 1s 112us/step - loss: 0.5307 - mean_absolute_error: 0.5307 - val_loss: 4.0283 - val_mean_absolute_error: 4.0283\n",
            "Epoch 284/500\n",
            "8571/8571 [==============================] - 1s 115us/step - loss: 0.5524 - mean_absolute_error: 0.5524 - val_loss: 4.0847 - val_mean_absolute_error: 4.0847\n",
            "Epoch 285/500\n",
            "8571/8571 [==============================] - 1s 121us/step - loss: 0.5273 - mean_absolute_error: 0.5273 - val_loss: 4.1146 - val_mean_absolute_error: 4.1146\n",
            "Epoch 286/500\n",
            "8571/8571 [==============================] - 1s 118us/step - loss: 0.5210 - mean_absolute_error: 0.5210 - val_loss: 4.0662 - val_mean_absolute_error: 4.0662\n",
            "Epoch 287/500\n",
            "8571/8571 [==============================] - 1s 116us/step - loss: 0.5426 - mean_absolute_error: 0.5426 - val_loss: 4.0218 - val_mean_absolute_error: 4.0218\n",
            "Epoch 288/500\n",
            "8571/8571 [==============================] - 1s 117us/step - loss: 0.5489 - mean_absolute_error: 0.5489 - val_loss: 4.0604 - val_mean_absolute_error: 4.0604\n",
            "Epoch 289/500\n",
            "8571/8571 [==============================] - 1s 114us/step - loss: 0.5696 - mean_absolute_error: 0.5696 - val_loss: 4.2468 - val_mean_absolute_error: 4.2468\n",
            "Epoch 290/500\n",
            "8571/8571 [==============================] - 1s 113us/step - loss: 0.5274 - mean_absolute_error: 0.5274 - val_loss: 4.0788 - val_mean_absolute_error: 4.0788\n",
            "Epoch 291/500\n",
            "8571/8571 [==============================] - 1s 115us/step - loss: 0.5320 - mean_absolute_error: 0.5320 - val_loss: 4.0502 - val_mean_absolute_error: 4.0502\n",
            "Epoch 292/500\n",
            "8571/8571 [==============================] - 1s 119us/step - loss: 0.5258 - mean_absolute_error: 0.5258 - val_loss: 4.1580 - val_mean_absolute_error: 4.1580\n",
            "Epoch 293/500\n",
            "8571/8571 [==============================] - 1s 120us/step - loss: 0.5252 - mean_absolute_error: 0.5252 - val_loss: 4.1002 - val_mean_absolute_error: 4.1002\n",
            "Epoch 294/500\n",
            "8571/8571 [==============================] - 1s 117us/step - loss: 0.5791 - mean_absolute_error: 0.5791 - val_loss: 4.1604 - val_mean_absolute_error: 4.1604\n",
            "Epoch 295/500\n",
            "8571/8571 [==============================] - 1s 122us/step - loss: 0.5262 - mean_absolute_error: 0.5262 - val_loss: 4.0584 - val_mean_absolute_error: 4.0584\n",
            "Epoch 296/500\n",
            "8571/8571 [==============================] - 1s 118us/step - loss: 0.5238 - mean_absolute_error: 0.5238 - val_loss: 4.1114 - val_mean_absolute_error: 4.1114\n",
            "Epoch 297/500\n",
            "8571/8571 [==============================] - 1s 112us/step - loss: 0.5399 - mean_absolute_error: 0.5399 - val_loss: 3.9953 - val_mean_absolute_error: 3.9953\n",
            "Epoch 298/500\n",
            "8571/8571 [==============================] - 1s 121us/step - loss: 0.5258 - mean_absolute_error: 0.5258 - val_loss: 4.1787 - val_mean_absolute_error: 4.1787\n",
            "Epoch 299/500\n",
            "8571/8571 [==============================] - 1s 115us/step - loss: 0.5304 - mean_absolute_error: 0.5304 - val_loss: 4.0636 - val_mean_absolute_error: 4.0636\n",
            "Epoch 300/500\n",
            "8571/8571 [==============================] - 1s 115us/step - loss: 0.5254 - mean_absolute_error: 0.5254 - val_loss: 4.0572 - val_mean_absolute_error: 4.0572\n",
            "Epoch 301/500\n",
            "8571/8571 [==============================] - 1s 116us/step - loss: 0.5276 - mean_absolute_error: 0.5276 - val_loss: 4.1445 - val_mean_absolute_error: 4.1445\n",
            "Epoch 302/500\n",
            "8571/8571 [==============================] - 1s 119us/step - loss: 0.5106 - mean_absolute_error: 0.5106 - val_loss: 4.0884 - val_mean_absolute_error: 4.0884\n",
            "Epoch 303/500\n",
            "8571/8571 [==============================] - 1s 121us/step - loss: 0.5301 - mean_absolute_error: 0.5301 - val_loss: 4.0940 - val_mean_absolute_error: 4.0940\n",
            "Epoch 304/500\n",
            "8571/8571 [==============================] - 1s 121us/step - loss: 0.5172 - mean_absolute_error: 0.5172 - val_loss: 4.1612 - val_mean_absolute_error: 4.1612\n",
            "Epoch 305/500\n",
            "8571/8571 [==============================] - 1s 116us/step - loss: 0.5130 - mean_absolute_error: 0.5130 - val_loss: 4.0329 - val_mean_absolute_error: 4.0329\n",
            "Epoch 306/500\n",
            "8571/8571 [==============================] - 1s 119us/step - loss: 0.5110 - mean_absolute_error: 0.5110 - val_loss: 4.1608 - val_mean_absolute_error: 4.1608\n",
            "Epoch 307/500\n",
            "8571/8571 [==============================] - 1s 125us/step - loss: 0.5248 - mean_absolute_error: 0.5248 - val_loss: 4.0549 - val_mean_absolute_error: 4.0549\n",
            "Epoch 308/500\n",
            "8571/8571 [==============================] - 1s 123us/step - loss: 0.5068 - mean_absolute_error: 0.5068 - val_loss: 4.1142 - val_mean_absolute_error: 4.1142\n",
            "Epoch 309/500\n",
            "8571/8571 [==============================] - 1s 120us/step - loss: 0.5122 - mean_absolute_error: 0.5122 - val_loss: 4.1308 - val_mean_absolute_error: 4.1308\n",
            "Epoch 310/500\n",
            "8571/8571 [==============================] - 1s 118us/step - loss: 0.5130 - mean_absolute_error: 0.5130 - val_loss: 4.0386 - val_mean_absolute_error: 4.0386\n",
            "Epoch 311/500\n",
            "8571/8571 [==============================] - 1s 124us/step - loss: 0.5197 - mean_absolute_error: 0.5197 - val_loss: 4.1079 - val_mean_absolute_error: 4.1079\n",
            "Epoch 312/500\n",
            "8571/8571 [==============================] - 1s 123us/step - loss: 0.5190 - mean_absolute_error: 0.5190 - val_loss: 4.0542 - val_mean_absolute_error: 4.0542\n",
            "Epoch 313/500\n",
            "8571/8571 [==============================] - 1s 121us/step - loss: 0.5165 - mean_absolute_error: 0.5165 - val_loss: 4.0320 - val_mean_absolute_error: 4.0320\n",
            "Epoch 314/500\n",
            "8571/8571 [==============================] - 1s 121us/step - loss: 0.5108 - mean_absolute_error: 0.5108 - val_loss: 4.1135 - val_mean_absolute_error: 4.1135\n",
            "Epoch 315/500\n",
            "8571/8571 [==============================] - 1s 121us/step - loss: 0.5077 - mean_absolute_error: 0.5077 - val_loss: 4.0041 - val_mean_absolute_error: 4.0041\n",
            "Epoch 316/500\n",
            "8571/8571 [==============================] - 1s 117us/step - loss: 0.5063 - mean_absolute_error: 0.5063 - val_loss: 4.1553 - val_mean_absolute_error: 4.1553\n",
            "Epoch 317/500\n",
            "8571/8571 [==============================] - 1s 114us/step - loss: 0.5384 - mean_absolute_error: 0.5384 - val_loss: 4.0298 - val_mean_absolute_error: 4.0298\n",
            "Epoch 318/500\n",
            "8571/8571 [==============================] - 1s 122us/step - loss: 0.5109 - mean_absolute_error: 0.5109 - val_loss: 4.1594 - val_mean_absolute_error: 4.1594\n",
            "Epoch 319/500\n",
            "8571/8571 [==============================] - 1s 113us/step - loss: 0.5310 - mean_absolute_error: 0.5310 - val_loss: 4.0288 - val_mean_absolute_error: 4.0288\n",
            "Epoch 320/500\n",
            "8571/8571 [==============================] - 1s 121us/step - loss: 0.5045 - mean_absolute_error: 0.5045 - val_loss: 4.0772 - val_mean_absolute_error: 4.0772\n",
            "Epoch 321/500\n",
            "8571/8571 [==============================] - 1s 120us/step - loss: 0.5049 - mean_absolute_error: 0.5049 - val_loss: 4.0659 - val_mean_absolute_error: 4.0659\n",
            "Epoch 322/500\n",
            "8571/8571 [==============================] - 1s 114us/step - loss: 0.5054 - mean_absolute_error: 0.5054 - val_loss: 4.0474 - val_mean_absolute_error: 4.0474\n",
            "Epoch 323/500\n",
            "8571/8571 [==============================] - 1s 116us/step - loss: 0.4872 - mean_absolute_error: 0.4872 - val_loss: 4.0631 - val_mean_absolute_error: 4.0631\n",
            "Epoch 324/500\n",
            "8571/8571 [==============================] - 1s 116us/step - loss: 0.5082 - mean_absolute_error: 0.5082 - val_loss: 4.2021 - val_mean_absolute_error: 4.2021\n",
            "Epoch 325/500\n",
            "8571/8571 [==============================] - 1s 113us/step - loss: 0.5048 - mean_absolute_error: 0.5048 - val_loss: 4.0602 - val_mean_absolute_error: 4.0602\n",
            "Epoch 326/500\n",
            "8571/8571 [==============================] - 1s 114us/step - loss: 0.4979 - mean_absolute_error: 0.4979 - val_loss: 4.0629 - val_mean_absolute_error: 4.0629\n",
            "Epoch 327/500\n",
            "8571/8571 [==============================] - 1s 115us/step - loss: 0.5012 - mean_absolute_error: 0.5012 - val_loss: 4.1003 - val_mean_absolute_error: 4.1003\n",
            "Epoch 328/500\n",
            "8571/8571 [==============================] - 1s 114us/step - loss: 0.5283 - mean_absolute_error: 0.5283 - val_loss: 4.0929 - val_mean_absolute_error: 4.0929\n",
            "Epoch 329/500\n",
            "8571/8571 [==============================] - 1s 121us/step - loss: 0.5147 - mean_absolute_error: 0.5147 - val_loss: 4.1710 - val_mean_absolute_error: 4.1710\n",
            "Epoch 330/500\n",
            "8571/8571 [==============================] - 1s 124us/step - loss: 0.4944 - mean_absolute_error: 0.4944 - val_loss: 4.0130 - val_mean_absolute_error: 4.0130\n",
            "Epoch 331/500\n",
            "8571/8571 [==============================] - 1s 115us/step - loss: 0.5039 - mean_absolute_error: 0.5039 - val_loss: 4.0056 - val_mean_absolute_error: 4.0056\n",
            "Epoch 332/500\n",
            "8571/8571 [==============================] - 1s 119us/step - loss: 0.5126 - mean_absolute_error: 0.5126 - val_loss: 4.1249 - val_mean_absolute_error: 4.1249\n",
            "Epoch 333/500\n",
            "8571/8571 [==============================] - 1s 119us/step - loss: 0.5118 - mean_absolute_error: 0.5118 - val_loss: 4.0810 - val_mean_absolute_error: 4.0810\n",
            "Epoch 334/500\n",
            "8571/8571 [==============================] - 1s 117us/step - loss: 0.4977 - mean_absolute_error: 0.4977 - val_loss: 4.1013 - val_mean_absolute_error: 4.1013\n",
            "Epoch 335/500\n",
            "8571/8571 [==============================] - 1s 121us/step - loss: 0.5332 - mean_absolute_error: 0.5332 - val_loss: 4.1359 - val_mean_absolute_error: 4.1359\n",
            "Epoch 336/500\n",
            "8571/8571 [==============================] - 1s 119us/step - loss: 0.4781 - mean_absolute_error: 0.4781 - val_loss: 4.1472 - val_mean_absolute_error: 4.1472\n",
            "Epoch 337/500\n",
            "8571/8571 [==============================] - 1s 117us/step - loss: 0.4985 - mean_absolute_error: 0.4985 - val_loss: 4.1135 - val_mean_absolute_error: 4.1135\n",
            "Epoch 338/500\n",
            "8571/8571 [==============================] - 1s 117us/step - loss: 0.5040 - mean_absolute_error: 0.5040 - val_loss: 4.0493 - val_mean_absolute_error: 4.0493\n",
            "Epoch 339/500\n",
            "8571/8571 [==============================] - 1s 121us/step - loss: 0.4977 - mean_absolute_error: 0.4977 - val_loss: 4.2202 - val_mean_absolute_error: 4.2202\n",
            "Epoch 340/500\n",
            "8571/8571 [==============================] - 1s 114us/step - loss: 0.5038 - mean_absolute_error: 0.5038 - val_loss: 4.2066 - val_mean_absolute_error: 4.2066\n",
            "Epoch 341/500\n",
            "8571/8571 [==============================] - 1s 114us/step - loss: 0.4840 - mean_absolute_error: 0.4840 - val_loss: 4.1483 - val_mean_absolute_error: 4.1483\n",
            "Epoch 342/500\n",
            "8571/8571 [==============================] - 1s 126us/step - loss: 0.5128 - mean_absolute_error: 0.5128 - val_loss: 4.0961 - val_mean_absolute_error: 4.0961\n",
            "Epoch 343/500\n",
            "8571/8571 [==============================] - 1s 117us/step - loss: 0.4808 - mean_absolute_error: 0.4808 - val_loss: 4.0661 - val_mean_absolute_error: 4.0661\n",
            "Epoch 344/500\n",
            "8571/8571 [==============================] - 1s 118us/step - loss: 0.4804 - mean_absolute_error: 0.4804 - val_loss: 4.1686 - val_mean_absolute_error: 4.1686\n",
            "Epoch 345/500\n",
            "8571/8571 [==============================] - 1s 119us/step - loss: 0.5051 - mean_absolute_error: 0.5051 - val_loss: 4.1036 - val_mean_absolute_error: 4.1036\n",
            "Epoch 346/500\n",
            "8571/8571 [==============================] - 1s 118us/step - loss: 0.5179 - mean_absolute_error: 0.5179 - val_loss: 4.0208 - val_mean_absolute_error: 4.0208\n",
            "Epoch 347/500\n",
            "8571/8571 [==============================] - 1s 122us/step - loss: 0.4908 - mean_absolute_error: 0.4908 - val_loss: 4.1147 - val_mean_absolute_error: 4.1147\n",
            "Epoch 348/500\n",
            "8571/8571 [==============================] - 1s 116us/step - loss: 0.5053 - mean_absolute_error: 0.5053 - val_loss: 4.0871 - val_mean_absolute_error: 4.0871\n",
            "Epoch 349/500\n",
            "8571/8571 [==============================] - 1s 116us/step - loss: 0.5140 - mean_absolute_error: 0.5140 - val_loss: 4.0833 - val_mean_absolute_error: 4.0833\n",
            "Epoch 350/500\n",
            "8571/8571 [==============================] - 1s 121us/step - loss: 0.4757 - mean_absolute_error: 0.4757 - val_loss: 4.0911 - val_mean_absolute_error: 4.0911\n",
            "Epoch 351/500\n",
            "8571/8571 [==============================] - 1s 117us/step - loss: 0.4912 - mean_absolute_error: 0.4912 - val_loss: 4.0352 - val_mean_absolute_error: 4.0352\n",
            "Epoch 352/500\n",
            "8571/8571 [==============================] - 1s 117us/step - loss: 0.4846 - mean_absolute_error: 0.4846 - val_loss: 4.0646 - val_mean_absolute_error: 4.0646\n",
            "Epoch 353/500\n",
            "8571/8571 [==============================] - 1s 119us/step - loss: 0.5198 - mean_absolute_error: 0.5198 - val_loss: 4.0456 - val_mean_absolute_error: 4.0456\n",
            "Epoch 354/500\n",
            "8571/8571 [==============================] - 1s 123us/step - loss: 0.4797 - mean_absolute_error: 0.4797 - val_loss: 4.1165 - val_mean_absolute_error: 4.1165\n",
            "Epoch 355/500\n",
            "8571/8571 [==============================] - 1s 119us/step - loss: 0.4780 - mean_absolute_error: 0.4780 - val_loss: 4.1750 - val_mean_absolute_error: 4.1750\n",
            "Epoch 356/500\n",
            "8571/8571 [==============================] - 1s 120us/step - loss: 0.5038 - mean_absolute_error: 0.5038 - val_loss: 4.1140 - val_mean_absolute_error: 4.1140\n",
            "Epoch 357/500\n",
            "8571/8571 [==============================] - 1s 117us/step - loss: 0.5033 - mean_absolute_error: 0.5033 - val_loss: 4.1588 - val_mean_absolute_error: 4.1588\n",
            "Epoch 358/500\n",
            "8571/8571 [==============================] - 1s 123us/step - loss: 0.4887 - mean_absolute_error: 0.4887 - val_loss: 4.1368 - val_mean_absolute_error: 4.1368\n",
            "Epoch 359/500\n",
            "8571/8571 [==============================] - 1s 122us/step - loss: 0.5132 - mean_absolute_error: 0.5132 - val_loss: 4.0693 - val_mean_absolute_error: 4.0693\n",
            "Epoch 360/500\n",
            "8571/8571 [==============================] - 1s 125us/step - loss: 0.4689 - mean_absolute_error: 0.4689 - val_loss: 3.9822 - val_mean_absolute_error: 3.9822\n",
            "Epoch 361/500\n",
            "8571/8571 [==============================] - 1s 121us/step - loss: 0.4842 - mean_absolute_error: 0.4842 - val_loss: 4.1365 - val_mean_absolute_error: 4.1365\n",
            "Epoch 362/500\n",
            "8571/8571 [==============================] - 1s 113us/step - loss: 0.4573 - mean_absolute_error: 0.4573 - val_loss: 4.1085 - val_mean_absolute_error: 4.1085\n",
            "Epoch 363/500\n",
            "8571/8571 [==============================] - 1s 123us/step - loss: 0.4760 - mean_absolute_error: 0.4760 - val_loss: 4.0833 - val_mean_absolute_error: 4.0833\n",
            "Epoch 364/500\n",
            "8571/8571 [==============================] - 1s 116us/step - loss: 0.4772 - mean_absolute_error: 0.4772 - val_loss: 4.0734 - val_mean_absolute_error: 4.0734\n",
            "Epoch 365/500\n",
            "8571/8571 [==============================] - 1s 121us/step - loss: 0.4735 - mean_absolute_error: 0.4735 - val_loss: 4.2505 - val_mean_absolute_error: 4.2505\n",
            "Epoch 366/500\n",
            "8571/8571 [==============================] - 1s 124us/step - loss: 0.4693 - mean_absolute_error: 0.4693 - val_loss: 4.0887 - val_mean_absolute_error: 4.0887\n",
            "Epoch 367/500\n",
            "8571/8571 [==============================] - 1s 117us/step - loss: 0.4888 - mean_absolute_error: 0.4888 - val_loss: 4.1002 - val_mean_absolute_error: 4.1002\n",
            "Epoch 368/500\n",
            "8571/8571 [==============================] - 1s 116us/step - loss: 0.4667 - mean_absolute_error: 0.4667 - val_loss: 4.0893 - val_mean_absolute_error: 4.0893\n",
            "Epoch 369/500\n",
            "8571/8571 [==============================] - 1s 121us/step - loss: 0.4793 - mean_absolute_error: 0.4793 - val_loss: 4.1612 - val_mean_absolute_error: 4.1612\n",
            "Epoch 370/500\n",
            "8571/8571 [==============================] - 1s 115us/step - loss: 0.4642 - mean_absolute_error: 0.4642 - val_loss: 4.0271 - val_mean_absolute_error: 4.0271\n",
            "Epoch 371/500\n",
            "8571/8571 [==============================] - 1s 114us/step - loss: 0.4821 - mean_absolute_error: 0.4821 - val_loss: 4.0922 - val_mean_absolute_error: 4.0922\n",
            "Epoch 372/500\n",
            "8571/8571 [==============================] - 1s 123us/step - loss: 0.4646 - mean_absolute_error: 0.4646 - val_loss: 4.1488 - val_mean_absolute_error: 4.1488\n",
            "Epoch 373/500\n",
            "8571/8571 [==============================] - 1s 115us/step - loss: 0.4712 - mean_absolute_error: 0.4712 - val_loss: 4.0435 - val_mean_absolute_error: 4.0435\n",
            "Epoch 374/500\n",
            "8571/8571 [==============================] - 1s 118us/step - loss: 0.4848 - mean_absolute_error: 0.4848 - val_loss: 4.1190 - val_mean_absolute_error: 4.1190\n",
            "Epoch 375/500\n",
            "8571/8571 [==============================] - 1s 113us/step - loss: 0.4788 - mean_absolute_error: 0.4788 - val_loss: 4.1067 - val_mean_absolute_error: 4.1067\n",
            "Epoch 376/500\n",
            "8571/8571 [==============================] - 1s 116us/step - loss: 0.4765 - mean_absolute_error: 0.4765 - val_loss: 4.0414 - val_mean_absolute_error: 4.0414\n",
            "Epoch 377/500\n",
            "8571/8571 [==============================] - 1s 123us/step - loss: 0.4679 - mean_absolute_error: 0.4679 - val_loss: 4.1147 - val_mean_absolute_error: 4.1147\n",
            "Epoch 378/500\n",
            "8571/8571 [==============================] - 1s 117us/step - loss: 0.4990 - mean_absolute_error: 0.4990 - val_loss: 4.0638 - val_mean_absolute_error: 4.0638\n",
            "Epoch 379/500\n",
            "8571/8571 [==============================] - 1s 112us/step - loss: 0.4620 - mean_absolute_error: 0.4620 - val_loss: 4.1086 - val_mean_absolute_error: 4.1086\n",
            "Epoch 380/500\n",
            "8571/8571 [==============================] - 1s 113us/step - loss: 0.4845 - mean_absolute_error: 0.4845 - val_loss: 4.0804 - val_mean_absolute_error: 4.0804\n",
            "Epoch 381/500\n",
            "8571/8571 [==============================] - 1s 124us/step - loss: 0.4672 - mean_absolute_error: 0.4672 - val_loss: 4.0729 - val_mean_absolute_error: 4.0729\n",
            "Epoch 382/500\n",
            "8571/8571 [==============================] - 1s 117us/step - loss: 0.4802 - mean_absolute_error: 0.4802 - val_loss: 4.0529 - val_mean_absolute_error: 4.0529\n",
            "Epoch 383/500\n",
            "8571/8571 [==============================] - 1s 117us/step - loss: 0.4843 - mean_absolute_error: 0.4843 - val_loss: 4.0915 - val_mean_absolute_error: 4.0915\n",
            "Epoch 384/500\n",
            "8571/8571 [==============================] - 1s 115us/step - loss: 0.4708 - mean_absolute_error: 0.4708 - val_loss: 4.2112 - val_mean_absolute_error: 4.2112\n",
            "Epoch 385/500\n",
            "8571/8571 [==============================] - 1s 120us/step - loss: 0.4685 - mean_absolute_error: 0.4685 - val_loss: 4.2018 - val_mean_absolute_error: 4.2018\n",
            "Epoch 386/500\n",
            "8571/8571 [==============================] - 1s 115us/step - loss: 0.4994 - mean_absolute_error: 0.4994 - val_loss: 4.1077 - val_mean_absolute_error: 4.1077\n",
            "Epoch 387/500\n",
            "8571/8571 [==============================] - 1s 115us/step - loss: 0.4671 - mean_absolute_error: 0.4671 - val_loss: 4.1006 - val_mean_absolute_error: 4.1006\n",
            "Epoch 388/500\n",
            "8571/8571 [==============================] - 1s 118us/step - loss: 0.4590 - mean_absolute_error: 0.4590 - val_loss: 4.1821 - val_mean_absolute_error: 4.1821\n",
            "Epoch 389/500\n",
            "8571/8571 [==============================] - 1s 115us/step - loss: 0.4630 - mean_absolute_error: 0.4630 - val_loss: 4.1018 - val_mean_absolute_error: 4.1018\n",
            "Epoch 390/500\n",
            "8571/8571 [==============================] - 1s 114us/step - loss: 0.4600 - mean_absolute_error: 0.4600 - val_loss: 4.0937 - val_mean_absolute_error: 4.0937\n",
            "Epoch 391/500\n",
            "8571/8571 [==============================] - 1s 122us/step - loss: 0.4647 - mean_absolute_error: 0.4647 - val_loss: 4.0308 - val_mean_absolute_error: 4.0308\n",
            "Epoch 392/500\n",
            "8571/8571 [==============================] - 1s 122us/step - loss: 0.4625 - mean_absolute_error: 0.4625 - val_loss: 3.9882 - val_mean_absolute_error: 3.9882\n",
            "Epoch 393/500\n",
            "8571/8571 [==============================] - 1s 118us/step - loss: 0.4562 - mean_absolute_error: 0.4562 - val_loss: 4.0171 - val_mean_absolute_error: 4.0171\n",
            "Epoch 394/500\n",
            "8571/8571 [==============================] - 1s 117us/step - loss: 0.4564 - mean_absolute_error: 0.4564 - val_loss: 4.0951 - val_mean_absolute_error: 4.0951\n",
            "Epoch 395/500\n",
            "8571/8571 [==============================] - 1s 116us/step - loss: 0.4577 - mean_absolute_error: 0.4577 - val_loss: 4.0320 - val_mean_absolute_error: 4.0320\n",
            "Epoch 396/500\n",
            "8571/8571 [==============================] - 1s 121us/step - loss: 0.4576 - mean_absolute_error: 0.4576 - val_loss: 4.2190 - val_mean_absolute_error: 4.2190\n",
            "Epoch 397/500\n",
            "8571/8571 [==============================] - 1s 117us/step - loss: 0.4629 - mean_absolute_error: 0.4629 - val_loss: 4.0963 - val_mean_absolute_error: 4.0963\n",
            "Epoch 398/500\n",
            "8571/8571 [==============================] - 1s 114us/step - loss: 0.4706 - mean_absolute_error: 0.4706 - val_loss: 4.0951 - val_mean_absolute_error: 4.0951\n",
            "Epoch 399/500\n",
            "8571/8571 [==============================] - 1s 115us/step - loss: 0.4353 - mean_absolute_error: 0.4353 - val_loss: 4.0697 - val_mean_absolute_error: 4.0697\n",
            "Epoch 400/500\n",
            "8571/8571 [==============================] - 1s 122us/step - loss: 0.4492 - mean_absolute_error: 0.4492 - val_loss: 4.2353 - val_mean_absolute_error: 4.2353\n",
            "Epoch 401/500\n",
            "8571/8571 [==============================] - 1s 122us/step - loss: 0.4705 - mean_absolute_error: 0.4705 - val_loss: 4.0615 - val_mean_absolute_error: 4.0615\n",
            "Epoch 402/500\n",
            "8571/8571 [==============================] - 1s 115us/step - loss: 0.4546 - mean_absolute_error: 0.4546 - val_loss: 4.1598 - val_mean_absolute_error: 4.1598\n",
            "Epoch 403/500\n",
            "8571/8571 [==============================] - 1s 115us/step - loss: 0.4739 - mean_absolute_error: 0.4739 - val_loss: 4.0442 - val_mean_absolute_error: 4.0442\n",
            "Epoch 404/500\n",
            "8571/8571 [==============================] - 1s 115us/step - loss: 0.4955 - mean_absolute_error: 0.4955 - val_loss: 4.1408 - val_mean_absolute_error: 4.1408\n",
            "Epoch 405/500\n",
            "8571/8571 [==============================] - 1s 114us/step - loss: 0.4505 - mean_absolute_error: 0.4505 - val_loss: 4.0953 - val_mean_absolute_error: 4.0953\n",
            "Epoch 406/500\n",
            "8571/8571 [==============================] - 1s 124us/step - loss: 0.4591 - mean_absolute_error: 0.4591 - val_loss: 4.0752 - val_mean_absolute_error: 4.0752\n",
            "Epoch 407/500\n",
            "8571/8571 [==============================] - 1s 121us/step - loss: 0.4510 - mean_absolute_error: 0.4510 - val_loss: 4.0682 - val_mean_absolute_error: 4.0682\n",
            "Epoch 408/500\n",
            "8571/8571 [==============================] - 1s 115us/step - loss: 0.4488 - mean_absolute_error: 0.4488 - val_loss: 4.0599 - val_mean_absolute_error: 4.0599\n",
            "Epoch 409/500\n",
            "8571/8571 [==============================] - 1s 115us/step - loss: 0.4630 - mean_absolute_error: 0.4630 - val_loss: 4.1402 - val_mean_absolute_error: 4.1402\n",
            "Epoch 410/500\n",
            "8571/8571 [==============================] - 1s 114us/step - loss: 0.4613 - mean_absolute_error: 0.4613 - val_loss: 4.1446 - val_mean_absolute_error: 4.1446\n",
            "Epoch 411/500\n",
            "8571/8571 [==============================] - 1s 118us/step - loss: 0.4587 - mean_absolute_error: 0.4587 - val_loss: 4.1101 - val_mean_absolute_error: 4.1101\n",
            "Epoch 412/500\n",
            "8571/8571 [==============================] - 1s 114us/step - loss: 0.4513 - mean_absolute_error: 0.4513 - val_loss: 4.0730 - val_mean_absolute_error: 4.0730\n",
            "Epoch 413/500\n",
            "8571/8571 [==============================] - 1s 117us/step - loss: 0.4584 - mean_absolute_error: 0.4584 - val_loss: 4.0911 - val_mean_absolute_error: 4.0911\n",
            "Epoch 414/500\n",
            "8571/8571 [==============================] - 1s 114us/step - loss: 0.4801 - mean_absolute_error: 0.4801 - val_loss: 4.0623 - val_mean_absolute_error: 4.0623\n",
            "Epoch 415/500\n",
            "8571/8571 [==============================] - 1s 115us/step - loss: 0.4306 - mean_absolute_error: 0.4306 - val_loss: 4.1643 - val_mean_absolute_error: 4.1643\n",
            "Epoch 416/500\n",
            "8571/8571 [==============================] - 1s 119us/step - loss: 0.4275 - mean_absolute_error: 0.4275 - val_loss: 4.1026 - val_mean_absolute_error: 4.1026\n",
            "Epoch 417/500\n",
            "8571/8571 [==============================] - 1s 119us/step - loss: 0.4698 - mean_absolute_error: 0.4698 - val_loss: 4.0853 - val_mean_absolute_error: 4.0853\n",
            "Epoch 418/500\n",
            "8571/8571 [==============================] - 1s 120us/step - loss: 0.4415 - mean_absolute_error: 0.4415 - val_loss: 4.0636 - val_mean_absolute_error: 4.0636\n",
            "Epoch 419/500\n",
            "8571/8571 [==============================] - 1s 115us/step - loss: 0.4651 - mean_absolute_error: 0.4651 - val_loss: 4.0426 - val_mean_absolute_error: 4.0426\n",
            "Epoch 420/500\n",
            "8571/8571 [==============================] - 1s 116us/step - loss: 0.4548 - mean_absolute_error: 0.4548 - val_loss: 4.0866 - val_mean_absolute_error: 4.0866\n",
            "Epoch 421/500\n",
            "8571/8571 [==============================] - 1s 122us/step - loss: 0.4616 - mean_absolute_error: 0.4616 - val_loss: 4.1464 - val_mean_absolute_error: 4.1464\n",
            "Epoch 422/500\n",
            "8571/8571 [==============================] - 1s 118us/step - loss: 0.4497 - mean_absolute_error: 0.4497 - val_loss: 4.1276 - val_mean_absolute_error: 4.1276\n",
            "Epoch 423/500\n",
            "8571/8571 [==============================] - 1s 115us/step - loss: 0.4473 - mean_absolute_error: 0.4473 - val_loss: 4.1133 - val_mean_absolute_error: 4.1133\n",
            "Epoch 424/500\n",
            "8571/8571 [==============================] - 1s 115us/step - loss: 0.4548 - mean_absolute_error: 0.4548 - val_loss: 4.1487 - val_mean_absolute_error: 4.1487\n",
            "Epoch 425/500\n",
            "8571/8571 [==============================] - 1s 117us/step - loss: 0.4595 - mean_absolute_error: 0.4595 - val_loss: 4.1225 - val_mean_absolute_error: 4.1225\n",
            "Epoch 426/500\n",
            "8571/8571 [==============================] - 1s 121us/step - loss: 0.4464 - mean_absolute_error: 0.4464 - val_loss: 4.1160 - val_mean_absolute_error: 4.1160\n",
            "Epoch 427/500\n",
            "8571/8571 [==============================] - 1s 120us/step - loss: 0.4496 - mean_absolute_error: 0.4496 - val_loss: 4.0989 - val_mean_absolute_error: 4.0989\n",
            "Epoch 428/500\n",
            "8571/8571 [==============================] - 1s 121us/step - loss: 0.4401 - mean_absolute_error: 0.4401 - val_loss: 4.1161 - val_mean_absolute_error: 4.1161\n",
            "Epoch 429/500\n",
            "8571/8571 [==============================] - 1s 118us/step - loss: 0.4414 - mean_absolute_error: 0.4414 - val_loss: 4.1257 - val_mean_absolute_error: 4.1257\n",
            "Epoch 430/500\n",
            "8571/8571 [==============================] - 1s 115us/step - loss: 0.4544 - mean_absolute_error: 0.4544 - val_loss: 4.0804 - val_mean_absolute_error: 4.0804\n",
            "Epoch 431/500\n",
            "8571/8571 [==============================] - 1s 114us/step - loss: 0.4357 - mean_absolute_error: 0.4357 - val_loss: 4.1647 - val_mean_absolute_error: 4.1647\n",
            "Epoch 432/500\n",
            "8571/8571 [==============================] - 1s 112us/step - loss: 0.4353 - mean_absolute_error: 0.4353 - val_loss: 4.0830 - val_mean_absolute_error: 4.0830\n",
            "Epoch 433/500\n",
            "8571/8571 [==============================] - 1s 115us/step - loss: 0.4451 - mean_absolute_error: 0.4451 - val_loss: 4.1589 - val_mean_absolute_error: 4.1589\n",
            "Epoch 434/500\n",
            "8571/8571 [==============================] - 1s 113us/step - loss: 0.4232 - mean_absolute_error: 0.4232 - val_loss: 4.1477 - val_mean_absolute_error: 4.1477\n",
            "Epoch 435/500\n",
            "8571/8571 [==============================] - 1s 111us/step - loss: 0.4366 - mean_absolute_error: 0.4366 - val_loss: 4.0912 - val_mean_absolute_error: 4.0912\n",
            "Epoch 436/500\n",
            "8571/8571 [==============================] - 1s 112us/step - loss: 0.4641 - mean_absolute_error: 0.4641 - val_loss: 4.1256 - val_mean_absolute_error: 4.1256\n",
            "Epoch 437/500\n",
            "8571/8571 [==============================] - 1s 120us/step - loss: 0.4438 - mean_absolute_error: 0.4438 - val_loss: 4.0736 - val_mean_absolute_error: 4.0736\n",
            "Epoch 438/500\n",
            "8571/8571 [==============================] - 1s 120us/step - loss: 0.4467 - mean_absolute_error: 0.4467 - val_loss: 4.1493 - val_mean_absolute_error: 4.1493\n",
            "Epoch 439/500\n",
            "8571/8571 [==============================] - 1s 117us/step - loss: 0.4507 - mean_absolute_error: 0.4507 - val_loss: 4.0459 - val_mean_absolute_error: 4.0459\n",
            "Epoch 440/500\n",
            "8571/8571 [==============================] - 1s 112us/step - loss: 0.4448 - mean_absolute_error: 0.4448 - val_loss: 4.0174 - val_mean_absolute_error: 4.0174\n",
            "Epoch 441/500\n",
            "8571/8571 [==============================] - 1s 117us/step - loss: 0.4434 - mean_absolute_error: 0.4434 - val_loss: 3.9972 - val_mean_absolute_error: 3.9972\n",
            "Epoch 442/500\n",
            "8571/8571 [==============================] - 1s 120us/step - loss: 0.4569 - mean_absolute_error: 0.4569 - val_loss: 4.0325 - val_mean_absolute_error: 4.0325\n",
            "Epoch 443/500\n",
            "8571/8571 [==============================] - 1s 120us/step - loss: 0.4334 - mean_absolute_error: 0.4334 - val_loss: 4.0607 - val_mean_absolute_error: 4.0607\n",
            "Epoch 444/500\n",
            "8571/8571 [==============================] - 1s 113us/step - loss: 0.4417 - mean_absolute_error: 0.4417 - val_loss: 4.0668 - val_mean_absolute_error: 4.0668\n",
            "Epoch 445/500\n",
            "8571/8571 [==============================] - 1s 114us/step - loss: 0.4400 - mean_absolute_error: 0.4400 - val_loss: 4.0683 - val_mean_absolute_error: 4.0683\n",
            "Epoch 446/500\n",
            "8571/8571 [==============================] - 1s 117us/step - loss: 0.4556 - mean_absolute_error: 0.4556 - val_loss: 4.0464 - val_mean_absolute_error: 4.0464\n",
            "Epoch 447/500\n",
            "8571/8571 [==============================] - 1s 114us/step - loss: 0.4512 - mean_absolute_error: 0.4512 - val_loss: 4.0544 - val_mean_absolute_error: 4.0544\n",
            "Epoch 448/500\n",
            "8571/8571 [==============================] - 1s 113us/step - loss: 0.4587 - mean_absolute_error: 0.4587 - val_loss: 4.1070 - val_mean_absolute_error: 4.1070\n",
            "Epoch 449/500\n",
            "8571/8571 [==============================] - 1s 114us/step - loss: 0.4302 - mean_absolute_error: 0.4302 - val_loss: 4.1770 - val_mean_absolute_error: 4.1770\n",
            "Epoch 450/500\n",
            "8571/8571 [==============================] - 1s 111us/step - loss: 0.4224 - mean_absolute_error: 0.4224 - val_loss: 4.0425 - val_mean_absolute_error: 4.0425\n",
            "Epoch 451/500\n",
            "8571/8571 [==============================] - 1s 110us/step - loss: 0.4432 - mean_absolute_error: 0.4432 - val_loss: 4.0256 - val_mean_absolute_error: 4.0256\n",
            "Epoch 452/500\n",
            "8571/8571 [==============================] - 1s 120us/step - loss: 0.4239 - mean_absolute_error: 0.4239 - val_loss: 4.1004 - val_mean_absolute_error: 4.1004\n",
            "Epoch 453/500\n",
            "8571/8571 [==============================] - 1s 117us/step - loss: 0.4323 - mean_absolute_error: 0.4323 - val_loss: 4.0894 - val_mean_absolute_error: 4.0894\n",
            "Epoch 454/500\n",
            "8571/8571 [==============================] - 1s 112us/step - loss: 0.4457 - mean_absolute_error: 0.4457 - val_loss: 4.0606 - val_mean_absolute_error: 4.0606\n",
            "Epoch 455/500\n",
            "8571/8571 [==============================] - 1s 112us/step - loss: 0.4265 - mean_absolute_error: 0.4265 - val_loss: 4.0504 - val_mean_absolute_error: 4.0504\n",
            "Epoch 456/500\n",
            "8571/8571 [==============================] - 1s 113us/step - loss: 0.4295 - mean_absolute_error: 0.4295 - val_loss: 4.1340 - val_mean_absolute_error: 4.1340\n",
            "Epoch 457/500\n",
            "8571/8571 [==============================] - 1s 110us/step - loss: 0.4500 - mean_absolute_error: 0.4500 - val_loss: 4.1461 - val_mean_absolute_error: 4.1461\n",
            "Epoch 458/500\n",
            "8571/8571 [==============================] - 1s 123us/step - loss: 0.4502 - mean_absolute_error: 0.4502 - val_loss: 4.0290 - val_mean_absolute_error: 4.0290\n",
            "Epoch 459/500\n",
            "8571/8571 [==============================] - 1s 115us/step - loss: 0.4294 - mean_absolute_error: 0.4294 - val_loss: 4.0410 - val_mean_absolute_error: 4.0410\n",
            "Epoch 460/500\n",
            "8571/8571 [==============================] - 1s 117us/step - loss: 0.4324 - mean_absolute_error: 0.4324 - val_loss: 4.0229 - val_mean_absolute_error: 4.0229\n",
            "Epoch 461/500\n",
            "8571/8571 [==============================] - 1s 119us/step - loss: 0.4342 - mean_absolute_error: 0.4342 - val_loss: 4.1004 - val_mean_absolute_error: 4.1004\n",
            "Epoch 462/500\n",
            "8571/8571 [==============================] - 1s 113us/step - loss: 0.4300 - mean_absolute_error: 0.4300 - val_loss: 4.0870 - val_mean_absolute_error: 4.0870\n",
            "Epoch 463/500\n",
            "8571/8571 [==============================] - 1s 113us/step - loss: 0.4399 - mean_absolute_error: 0.4399 - val_loss: 4.0345 - val_mean_absolute_error: 4.0345\n",
            "Epoch 464/500\n",
            "8571/8571 [==============================] - 1s 110us/step - loss: 0.4257 - mean_absolute_error: 0.4257 - val_loss: 4.0866 - val_mean_absolute_error: 4.0866\n",
            "Epoch 465/500\n",
            "8571/8571 [==============================] - 1s 113us/step - loss: 0.4328 - mean_absolute_error: 0.4328 - val_loss: 4.0772 - val_mean_absolute_error: 4.0772\n",
            "Epoch 466/500\n",
            "8571/8571 [==============================] - 1s 117us/step - loss: 0.4380 - mean_absolute_error: 0.4380 - val_loss: 4.0536 - val_mean_absolute_error: 4.0536\n",
            "Epoch 467/500\n",
            "8571/8571 [==============================] - 1s 120us/step - loss: 0.4193 - mean_absolute_error: 0.4193 - val_loss: 4.1295 - val_mean_absolute_error: 4.1295\n",
            "Epoch 468/500\n",
            "8571/8571 [==============================] - 1s 113us/step - loss: 0.4368 - mean_absolute_error: 0.4368 - val_loss: 4.0483 - val_mean_absolute_error: 4.0483\n",
            "Epoch 469/500\n",
            "8571/8571 [==============================] - 1s 115us/step - loss: 0.4350 - mean_absolute_error: 0.4350 - val_loss: 4.1217 - val_mean_absolute_error: 4.1217\n",
            "Epoch 470/500\n",
            "8571/8571 [==============================] - 1s 117us/step - loss: 0.4444 - mean_absolute_error: 0.4444 - val_loss: 4.0262 - val_mean_absolute_error: 4.0262\n",
            "Epoch 471/500\n",
            "8571/8571 [==============================] - 1s 115us/step - loss: 0.4126 - mean_absolute_error: 0.4126 - val_loss: 4.0942 - val_mean_absolute_error: 4.0942\n",
            "Epoch 472/500\n",
            "8571/8571 [==============================] - 1s 118us/step - loss: 0.4437 - mean_absolute_error: 0.4437 - val_loss: 4.1007 - val_mean_absolute_error: 4.1007\n",
            "Epoch 473/500\n",
            "8571/8571 [==============================] - 1s 113us/step - loss: 0.4188 - mean_absolute_error: 0.4188 - val_loss: 4.0434 - val_mean_absolute_error: 4.0434\n",
            "Epoch 474/500\n",
            "8571/8571 [==============================] - 1s 113us/step - loss: 0.4346 - mean_absolute_error: 0.4346 - val_loss: 4.0193 - val_mean_absolute_error: 4.0193\n",
            "Epoch 475/500\n",
            "8571/8571 [==============================] - 1s 113us/step - loss: 0.4345 - mean_absolute_error: 0.4345 - val_loss: 4.0871 - val_mean_absolute_error: 4.0871\n",
            "Epoch 476/500\n",
            "8571/8571 [==============================] - 1s 114us/step - loss: 0.4332 - mean_absolute_error: 0.4332 - val_loss: 4.2403 - val_mean_absolute_error: 4.2403\n",
            "Epoch 477/500\n",
            "8571/8571 [==============================] - 1s 114us/step - loss: 0.4323 - mean_absolute_error: 0.4323 - val_loss: 4.0746 - val_mean_absolute_error: 4.0746\n",
            "Epoch 478/500\n",
            "8571/8571 [==============================] - 1s 112us/step - loss: 0.4193 - mean_absolute_error: 0.4193 - val_loss: 4.1214 - val_mean_absolute_error: 4.1214\n",
            "Epoch 479/500\n",
            "8571/8571 [==============================] - 1s 112us/step - loss: 0.4521 - mean_absolute_error: 0.4521 - val_loss: 4.0657 - val_mean_absolute_error: 4.0657\n",
            "Epoch 480/500\n",
            "8571/8571 [==============================] - 1s 115us/step - loss: 0.4171 - mean_absolute_error: 0.4171 - val_loss: 3.9903 - val_mean_absolute_error: 3.9903\n",
            "Epoch 481/500\n",
            "8571/8571 [==============================] - 1s 113us/step - loss: 0.4308 - mean_absolute_error: 0.4308 - val_loss: 4.1378 - val_mean_absolute_error: 4.1378\n",
            "Epoch 482/500\n",
            "8571/8571 [==============================] - 1s 114us/step - loss: 0.4289 - mean_absolute_error: 0.4289 - val_loss: 4.0986 - val_mean_absolute_error: 4.0986\n",
            "Epoch 483/500\n",
            "8571/8571 [==============================] - 1s 119us/step - loss: 0.4297 - mean_absolute_error: 0.4297 - val_loss: 4.0226 - val_mean_absolute_error: 4.0226\n",
            "Epoch 484/500\n",
            "8571/8571 [==============================] - 1s 113us/step - loss: 0.4152 - mean_absolute_error: 0.4152 - val_loss: 4.0272 - val_mean_absolute_error: 4.0272\n",
            "Epoch 485/500\n",
            "8571/8571 [==============================] - 1s 116us/step - loss: 0.4417 - mean_absolute_error: 0.4417 - val_loss: 4.0443 - val_mean_absolute_error: 4.0443\n",
            "Epoch 486/500\n",
            "8571/8571 [==============================] - 1s 113us/step - loss: 0.4063 - mean_absolute_error: 0.4063 - val_loss: 3.9961 - val_mean_absolute_error: 3.9961\n",
            "Epoch 487/500\n",
            "8571/8571 [==============================] - 1s 116us/step - loss: 0.4156 - mean_absolute_error: 0.4156 - val_loss: 4.0570 - val_mean_absolute_error: 4.0570\n",
            "Epoch 488/500\n",
            "8571/8571 [==============================] - 1s 113us/step - loss: 0.4433 - mean_absolute_error: 0.4433 - val_loss: 4.1033 - val_mean_absolute_error: 4.1033\n",
            "Epoch 489/500\n",
            "8571/8571 [==============================] - 1s 113us/step - loss: 0.4322 - mean_absolute_error: 0.4322 - val_loss: 4.2212 - val_mean_absolute_error: 4.2212\n",
            "Epoch 490/500\n",
            "8571/8571 [==============================] - 1s 119us/step - loss: 0.4275 - mean_absolute_error: 0.4275 - val_loss: 3.9932 - val_mean_absolute_error: 3.9932\n",
            "Epoch 491/500\n",
            "8571/8571 [==============================] - 1s 120us/step - loss: 0.4029 - mean_absolute_error: 0.4029 - val_loss: 4.0760 - val_mean_absolute_error: 4.0760\n",
            "Epoch 492/500\n",
            "8571/8571 [==============================] - 1s 121us/step - loss: 0.4115 - mean_absolute_error: 0.4115 - val_loss: 4.0569 - val_mean_absolute_error: 4.0569\n",
            "Epoch 493/500\n",
            "8571/8571 [==============================] - 1s 121us/step - loss: 0.4408 - mean_absolute_error: 0.4408 - val_loss: 4.2608 - val_mean_absolute_error: 4.2608\n",
            "Epoch 494/500\n",
            "8571/8571 [==============================] - 1s 112us/step - loss: 0.4162 - mean_absolute_error: 0.4162 - val_loss: 3.9908 - val_mean_absolute_error: 3.9908\n",
            "Epoch 495/500\n",
            "8571/8571 [==============================] - 1s 115us/step - loss: 0.4086 - mean_absolute_error: 0.4086 - val_loss: 4.0669 - val_mean_absolute_error: 4.0669\n",
            "Epoch 496/500\n",
            "8571/8571 [==============================] - 1s 113us/step - loss: 0.4180 - mean_absolute_error: 0.4180 - val_loss: 4.1040 - val_mean_absolute_error: 4.1040\n",
            "Epoch 497/500\n",
            "8571/8571 [==============================] - 1s 111us/step - loss: 0.4292 - mean_absolute_error: 0.4292 - val_loss: 4.0250 - val_mean_absolute_error: 4.0250\n",
            "Epoch 498/500\n",
            "8571/8571 [==============================] - 1s 114us/step - loss: 0.4160 - mean_absolute_error: 0.4160 - val_loss: 4.0232 - val_mean_absolute_error: 4.0232\n",
            "Epoch 499/500\n",
            "8571/8571 [==============================] - 1s 115us/step - loss: 0.4485 - mean_absolute_error: 0.4485 - val_loss: 4.1584 - val_mean_absolute_error: 4.1584\n",
            "Epoch 500/500\n",
            "8571/8571 [==============================] - 1s 114us/step - loss: 0.4235 - mean_absolute_error: 0.4235 - val_loss: 4.0701 - val_mean_absolute_error: 4.0701\n"
          ],
          "name": "stdout"
        },
        {
          "output_type": "execute_result",
          "data": {
            "text/plain": [
              "<keras.callbacks.History at 0x7fd0a9c7e550>"
            ]
          },
          "metadata": {
            "tags": []
          },
          "execution_count": 46
        }
      ]
    },
    {
      "cell_type": "markdown",
      "metadata": {
        "id": "6gnsqQbPK74Z",
        "colab_type": "text"
      },
      "source": [
        "# Conclusion\n",
        "\n",
        ">**Random Forest model** gives a **RMSE error 9.05** on validation set which is quite well\n",
        "\n",
        "\n",
        ">**ANN model** gives a **MSE error 0.4 on training set** and **4.07 on validation set**.\n",
        " As MSE of training set is very small ,it seems to be case of overfitting  but the MSE of validation is also small nearly 4 which states our model is trained well\n",
        "\n",
        "\n",
        "\n",
        "\n"
      ]
    },
    {
      "cell_type": "markdown",
      "metadata": {
        "id": "pDO9IXDP_7Ny",
        "colab_type": "text"
      },
      "source": [
        "# **TEST DATASET**"
      ]
    },
    {
      "cell_type": "code",
      "metadata": {
        "id": "4L9EtfoF5eio",
        "colab_type": "code",
        "colab": {}
      },
      "source": [
        "#Import test datset\n",
        "test=pd.read_csv('/content/drive/My Drive/flipr/Test_dataset.csv')"
      ],
      "execution_count": 0,
      "outputs": []
    },
    {
      "cell_type": "code",
      "metadata": {
        "id": "kpZo2P087Nfb",
        "colab_type": "code",
        "outputId": "842d13e6-a2f1-4b49-9f7c-8e1df574873b",
        "colab": {
          "base_uri": "https://localhost:8080/",
          "height": 554
        }
      },
      "source": [
        "test.info()"
      ],
      "execution_count": 48,
      "outputs": [
        {
          "output_type": "stream",
          "text": [
            "<class 'pandas.core.frame.DataFrame'>\n",
            "RangeIndex: 14498 entries, 0 to 14497\n",
            "Data columns (total 27 columns):\n",
            "people_ID                 14498 non-null int64\n",
            "Region                    14498 non-null object\n",
            "Gender                    14498 non-null object\n",
            "Designation               14498 non-null object\n",
            "Name                      14466 non-null object\n",
            "Married                   14498 non-null object\n",
            "Children                  14498 non-null int64\n",
            "Occupation                14498 non-null object\n",
            "Mode_transport            14498 non-null object\n",
            "cases/1M                  14498 non-null int64\n",
            "Deaths/1M                 14498 non-null int64\n",
            "comorbidity               14498 non-null object\n",
            "Age                       14498 non-null int64\n",
            "Coma score                14498 non-null int64\n",
            "Pulmonary score           14498 non-null object\n",
            "cardiological pressure    14498 non-null object\n",
            "Diuresis                  14498 non-null int64\n",
            "Platelets                 14498 non-null int64\n",
            "HBB                       14498 non-null int64\n",
            "d-dimer                   14498 non-null int64\n",
            "Heart rate                14498 non-null int64\n",
            "HDL cholesterol           14498 non-null int64\n",
            "Charlson Index            14498 non-null int64\n",
            "Blood Glucose             14498 non-null int64\n",
            "Insurance                 14498 non-null int64\n",
            "salary                    14498 non-null int64\n",
            "FT/month                  14498 non-null int64\n",
            "dtypes: int64(17), object(10)\n",
            "memory usage: 3.0+ MB\n"
          ],
          "name": "stdout"
        }
      ]
    },
    {
      "cell_type": "code",
      "metadata": {
        "id": "8h_vic2dAV7-",
        "colab_type": "code",
        "colab": {}
      },
      "source": [
        "#Saving people ID column\n",
        "people_ID=test['people_ID']"
      ],
      "execution_count": 0,
      "outputs": []
    },
    {
      "cell_type": "code",
      "metadata": {
        "id": "knTN-qvg7XMq",
        "colab_type": "code",
        "colab": {}
      },
      "source": [
        "#Drop the features\n",
        "test=test.drop(['people_ID','Name','Designation','Gender','Deaths/1M','cardiological pressure'],axis=1)"
      ],
      "execution_count": 0,
      "outputs": []
    },
    {
      "cell_type": "code",
      "metadata": {
        "id": "hSUN3VEU7ugV",
        "colab_type": "code",
        "colab": {}
      },
      "source": [
        "#Encoding(Yes=1,No=0)\n",
        "test['Married']=test['Married'].replace(\"YES\",1)\n",
        "test['Married']=test['Married'].replace(\"NO\",0)"
      ],
      "execution_count": 0,
      "outputs": []
    },
    {
      "cell_type": "code",
      "metadata": {
        "id": "eF2glB4w8wRM",
        "colab_type": "code",
        "colab": {}
      },
      "source": [
        "#Encoding\n",
        "test['Mode_transport']=test['Mode_transport'].replace('Public',2)\n",
        "test['Mode_transport']=test['Mode_transport'].replace('Walk',1)\n",
        "test['Mode_transport']=test['Mode_transport'].replace('Car',0)"
      ],
      "execution_count": 0,
      "outputs": []
    },
    {
      "cell_type": "code",
      "metadata": {
        "id": "f0HPd1G38-t-",
        "colab_type": "code",
        "colab": {}
      },
      "source": [
        "#Encoding\n",
        "test['comorbidity']=test['comorbidity'].replace('Hypertension',3)\n",
        "test['comorbidity']=test['comorbidity'].replace('Diabetes',2)\n",
        "test['comorbidity']=test['comorbidity'].replace('Coronary Heart Disease',1)\n",
        "test['comorbidity']=test['comorbidity'].replace('None',0)"
      ],
      "execution_count": 0,
      "outputs": []
    },
    {
      "cell_type": "code",
      "metadata": {
        "id": "fguXjNv39Ny0",
        "colab_type": "code",
        "colab": {}
      },
      "source": [
        "#Encoding\n",
        "test['Pulmonary score']=test['Pulmonary score'].replace('<400',0)\n",
        "test['Pulmonary score']=test['Pulmonary score'].replace('<300',1)\n",
        "test['Pulmonary score']=test['Pulmonary score'].replace('<200',2) \n",
        "test['Pulmonary score']=test['Pulmonary score'].replace('<100',3)"
      ],
      "execution_count": 0,
      "outputs": []
    },
    {
      "cell_type": "code",
      "metadata": {
        "id": "sEL0HJJG8PGt",
        "colab_type": "code",
        "colab": {}
      },
      "source": [
        "#Label Encoding\n",
        "test['Occupation']= le.fit_transform(test['Occupation'])\n",
        "test['Region']= le1.fit_transform(test['Region'])"
      ],
      "execution_count": 0,
      "outputs": []
    },
    {
      "cell_type": "code",
      "metadata": {
        "id": "zKjLkzIWVKad",
        "colab_type": "code",
        "colab": {}
      },
      "source": [
        "# Feature Scaling\n",
        "sc_x = StandardScaler()\n",
        "test = sc_x.fit_transform(test)"
      ],
      "execution_count": 0,
      "outputs": []
    },
    {
      "cell_type": "markdown",
      "metadata": {
        "id": "DdciVBOFGa9c",
        "colab_type": "text"
      },
      "source": [
        "**Prediction of Final Score**"
      ]
    },
    {
      "cell_type": "code",
      "metadata": {
        "id": "PobSau2-9l1T",
        "colab_type": "code",
        "colab": {}
      },
      "source": [
        "final_score=NN_model.predict(test)"
      ],
      "execution_count": 0,
      "outputs": []
    },
    {
      "cell_type": "code",
      "metadata": {
        "id": "fEqLVx6t91ge",
        "colab_type": "code",
        "colab": {}
      },
      "source": [
        "#Saving as Infect_prob column\n",
        "Infect_prob=pd.DataFrame(final_score,columns=['Infect_prob'])"
      ],
      "execution_count": 0,
      "outputs": []
    },
    {
      "cell_type": "code",
      "metadata": {
        "id": "iT9HxX1hA-dr",
        "colab_type": "code",
        "outputId": "8eb6ee9b-d379-4c4a-c786-9fc4eeb10d8a",
        "colab": {
          "base_uri": "https://localhost:8080/",
          "height": 284
        }
      },
      "source": [
        "Infect_prob.describe()"
      ],
      "execution_count": 59,
      "outputs": [
        {
          "output_type": "execute_result",
          "data": {
            "text/html": [
              "<div>\n",
              "<style scoped>\n",
              "    .dataframe tbody tr th:only-of-type {\n",
              "        vertical-align: middle;\n",
              "    }\n",
              "\n",
              "    .dataframe tbody tr th {\n",
              "        vertical-align: top;\n",
              "    }\n",
              "\n",
              "    .dataframe thead th {\n",
              "        text-align: right;\n",
              "    }\n",
              "</style>\n",
              "<table border=\"1\" class=\"dataframe\">\n",
              "  <thead>\n",
              "    <tr style=\"text-align: right;\">\n",
              "      <th></th>\n",
              "      <th>Infect_prob</th>\n",
              "    </tr>\n",
              "  </thead>\n",
              "  <tbody>\n",
              "    <tr>\n",
              "      <th>count</th>\n",
              "      <td>14498.000000</td>\n",
              "    </tr>\n",
              "    <tr>\n",
              "      <th>mean</th>\n",
              "      <td>51.676651</td>\n",
              "    </tr>\n",
              "    <tr>\n",
              "      <th>std</th>\n",
              "      <td>7.912461</td>\n",
              "    </tr>\n",
              "    <tr>\n",
              "      <th>min</th>\n",
              "      <td>29.248772</td>\n",
              "    </tr>\n",
              "    <tr>\n",
              "      <th>25%</th>\n",
              "      <td>47.510273</td>\n",
              "    </tr>\n",
              "    <tr>\n",
              "      <th>50%</th>\n",
              "      <td>49.127766</td>\n",
              "    </tr>\n",
              "    <tr>\n",
              "      <th>75%</th>\n",
              "      <td>52.195992</td>\n",
              "    </tr>\n",
              "    <tr>\n",
              "      <th>max</th>\n",
              "      <td>99.791245</td>\n",
              "    </tr>\n",
              "  </tbody>\n",
              "</table>\n",
              "</div>"
            ],
            "text/plain": [
              "        Infect_prob\n",
              "count  14498.000000\n",
              "mean      51.676651\n",
              "std        7.912461\n",
              "min       29.248772\n",
              "25%       47.510273\n",
              "50%       49.127766\n",
              "75%       52.195992\n",
              "max       99.791245"
            ]
          },
          "metadata": {
            "tags": []
          },
          "execution_count": 59
        }
      ]
    },
    {
      "cell_type": "code",
      "metadata": {
        "id": "TdavD3qRU3KU",
        "colab_type": "code",
        "outputId": "dfc9e19f-6835-44c6-da32-4b308be66f25",
        "colab": {
          "base_uri": "https://localhost:8080/",
          "height": 282
        }
      },
      "source": [
        "sns.boxplot(Infect_prob)"
      ],
      "execution_count": 60,
      "outputs": [
        {
          "output_type": "execute_result",
          "data": {
            "text/plain": [
              "<matplotlib.axes._subplots.AxesSubplot at 0x7fd0a38b4748>"
            ]
          },
          "metadata": {
            "tags": []
          },
          "execution_count": 60
        },
        {
          "output_type": "display_data",
          "data": {
            "image/png": "[encoded data removed]",
            "text/plain": [
              "<Figure size 432x288 with 1 Axes>"
            ]
          },
          "metadata": {
            "tags": []
          }
        }
      ]
    },
    {
      "cell_type": "code",
      "metadata": {
        "id": "c9Og_ekl_Ucv",
        "colab_type": "code",
        "colab": {}
      },
      "source": [
        "#Concate ID and Infect_prob\n",
        "final=pd.concat([people_ID, Infect_prob], axis=1)"
      ],
      "execution_count": 0,
      "outputs": []
    },
    {
      "cell_type": "code",
      "metadata": {
        "id": "_ONZ_7sIA8c0",
        "colab_type": "code",
        "outputId": "0c874869-7aee-4683-a7c8-91b1097b1900",
        "colab": {
          "base_uri": "https://localhost:8080/",
          "height": 195
        }
      },
      "source": [
        "final.head()"
      ],
      "execution_count": 62,
      "outputs": [
        {
          "output_type": "execute_result",
          "data": {
            "text/html": [
              "<div>\n",
              "<style scoped>\n",
              "    .dataframe tbody tr th:only-of-type {\n",
              "        vertical-align: middle;\n",
              "    }\n",
              "\n",
              "    .dataframe tbody tr th {\n",
              "        vertical-align: top;\n",
              "    }\n",
              "\n",
              "    .dataframe thead th {\n",
              "        text-align: right;\n",
              "    }\n",
              "</style>\n",
              "<table border=\"1\" class=\"dataframe\">\n",
              "  <thead>\n",
              "    <tr style=\"text-align: right;\">\n",
              "      <th></th>\n",
              "      <th>people_ID</th>\n",
              "      <th>Infect_prob</th>\n",
              "    </tr>\n",
              "  </thead>\n",
              "  <tbody>\n",
              "    <tr>\n",
              "      <th>0</th>\n",
              "      <td>5942</td>\n",
              "      <td>50.684738</td>\n",
              "    </tr>\n",
              "    <tr>\n",
              "      <th>1</th>\n",
              "      <td>18664</td>\n",
              "      <td>50.563156</td>\n",
              "    </tr>\n",
              "    <tr>\n",
              "      <th>2</th>\n",
              "      <td>5603</td>\n",
              "      <td>51.569592</td>\n",
              "    </tr>\n",
              "    <tr>\n",
              "      <th>3</th>\n",
              "      <td>5649</td>\n",
              "      <td>50.514904</td>\n",
              "    </tr>\n",
              "    <tr>\n",
              "      <th>4</th>\n",
              "      <td>5099</td>\n",
              "      <td>50.466034</td>\n",
              "    </tr>\n",
              "  </tbody>\n",
              "</table>\n",
              "</div>"
            ],
            "text/plain": [
              "   people_ID  Infect_prob\n",
              "0       5942    50.684738\n",
              "1      18664    50.563156\n",
              "2       5603    51.569592\n",
              "3       5649    50.514904\n",
              "4       5099    50.466034"
            ]
          },
          "metadata": {
            "tags": []
          },
          "execution_count": 62
        }
      ]
    },
    {
      "cell_type": "code",
      "metadata": {
        "id": "34QhgnzeVuiW",
        "colab_type": "code",
        "colab": {}
      },
      "source": [
        "# saving the dataframe \n",
        "final.to_csv('Task1.csv') "
      ],
      "execution_count": 0,
      "outputs": []
    },
    {
      "cell_type": "code",
      "metadata": {
        "id": "m4Rqv14PWEDe",
        "colab_type": "code",
        "colab": {}
      },
      "source": [
        ""
      ],
      "execution_count": 0,
      "outputs": []
    }
  ]
}